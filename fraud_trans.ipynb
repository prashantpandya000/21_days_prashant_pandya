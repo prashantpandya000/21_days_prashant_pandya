{
    "cells": [
        {
            "cell_type": "code",
            "execution_count": 2,
            "source": [
                "import pandas as pd \r\n",
                "import numpy as np\r\n",
                "import matplotlib.pyplot as plt\r\n"
            ],
            "outputs": [],
            "metadata": {}
        },
        {
            "cell_type": "code",
            "execution_count": 3,
            "source": [
                "df = pd.read_csv('Fraud.csv')"
            ],
            "outputs": [],
            "metadata": {}
        },
        {
            "cell_type": "code",
            "execution_count": 5,
            "source": [
                "df.head(5)"
            ],
            "outputs": [
                {
                    "output_type": "execute_result",
                    "data": {
                        "text/plain": [
                            "   step      type    amount     nameOrig  oldbalanceOrg  newbalanceOrig  \\\n",
                            "0     1   PAYMENT   9839.64  C1231006815       170136.0       160296.36   \n",
                            "1     1   PAYMENT   1864.28  C1666544295        21249.0        19384.72   \n",
                            "2     1  TRANSFER    181.00  C1305486145          181.0            0.00   \n",
                            "3     1  CASH_OUT    181.00   C840083671          181.0            0.00   \n",
                            "4     1   PAYMENT  11668.14  C2048537720        41554.0        29885.86   \n",
                            "\n",
                            "      nameDest  oldbalanceDest  newbalanceDest  isFraud  isFlaggedFraud  \n",
                            "0  M1979787155             0.0             0.0        0               0  \n",
                            "1  M2044282225             0.0             0.0        0               0  \n",
                            "2   C553264065             0.0             0.0        1               0  \n",
                            "3    C38997010         21182.0             0.0        1               0  \n",
                            "4  M1230701703             0.0             0.0        0               0  "
                        ],
                        "text/html": [
                            "<div>\n",
                            "<style scoped>\n",
                            "    .dataframe tbody tr th:only-of-type {\n",
                            "        vertical-align: middle;\n",
                            "    }\n",
                            "\n",
                            "    .dataframe tbody tr th {\n",
                            "        vertical-align: top;\n",
                            "    }\n",
                            "\n",
                            "    .dataframe thead th {\n",
                            "        text-align: right;\n",
                            "    }\n",
                            "</style>\n",
                            "<table border=\"1\" class=\"dataframe\">\n",
                            "  <thead>\n",
                            "    <tr style=\"text-align: right;\">\n",
                            "      <th></th>\n",
                            "      <th>step</th>\n",
                            "      <th>type</th>\n",
                            "      <th>amount</th>\n",
                            "      <th>nameOrig</th>\n",
                            "      <th>oldbalanceOrg</th>\n",
                            "      <th>newbalanceOrig</th>\n",
                            "      <th>nameDest</th>\n",
                            "      <th>oldbalanceDest</th>\n",
                            "      <th>newbalanceDest</th>\n",
                            "      <th>isFraud</th>\n",
                            "      <th>isFlaggedFraud</th>\n",
                            "    </tr>\n",
                            "  </thead>\n",
                            "  <tbody>\n",
                            "    <tr>\n",
                            "      <th>0</th>\n",
                            "      <td>1</td>\n",
                            "      <td>PAYMENT</td>\n",
                            "      <td>9839.64</td>\n",
                            "      <td>C1231006815</td>\n",
                            "      <td>170136.0</td>\n",
                            "      <td>160296.36</td>\n",
                            "      <td>M1979787155</td>\n",
                            "      <td>0.0</td>\n",
                            "      <td>0.0</td>\n",
                            "      <td>0</td>\n",
                            "      <td>0</td>\n",
                            "    </tr>\n",
                            "    <tr>\n",
                            "      <th>1</th>\n",
                            "      <td>1</td>\n",
                            "      <td>PAYMENT</td>\n",
                            "      <td>1864.28</td>\n",
                            "      <td>C1666544295</td>\n",
                            "      <td>21249.0</td>\n",
                            "      <td>19384.72</td>\n",
                            "      <td>M2044282225</td>\n",
                            "      <td>0.0</td>\n",
                            "      <td>0.0</td>\n",
                            "      <td>0</td>\n",
                            "      <td>0</td>\n",
                            "    </tr>\n",
                            "    <tr>\n",
                            "      <th>2</th>\n",
                            "      <td>1</td>\n",
                            "      <td>TRANSFER</td>\n",
                            "      <td>181.00</td>\n",
                            "      <td>C1305486145</td>\n",
                            "      <td>181.0</td>\n",
                            "      <td>0.00</td>\n",
                            "      <td>C553264065</td>\n",
                            "      <td>0.0</td>\n",
                            "      <td>0.0</td>\n",
                            "      <td>1</td>\n",
                            "      <td>0</td>\n",
                            "    </tr>\n",
                            "    <tr>\n",
                            "      <th>3</th>\n",
                            "      <td>1</td>\n",
                            "      <td>CASH_OUT</td>\n",
                            "      <td>181.00</td>\n",
                            "      <td>C840083671</td>\n",
                            "      <td>181.0</td>\n",
                            "      <td>0.00</td>\n",
                            "      <td>C38997010</td>\n",
                            "      <td>21182.0</td>\n",
                            "      <td>0.0</td>\n",
                            "      <td>1</td>\n",
                            "      <td>0</td>\n",
                            "    </tr>\n",
                            "    <tr>\n",
                            "      <th>4</th>\n",
                            "      <td>1</td>\n",
                            "      <td>PAYMENT</td>\n",
                            "      <td>11668.14</td>\n",
                            "      <td>C2048537720</td>\n",
                            "      <td>41554.0</td>\n",
                            "      <td>29885.86</td>\n",
                            "      <td>M1230701703</td>\n",
                            "      <td>0.0</td>\n",
                            "      <td>0.0</td>\n",
                            "      <td>0</td>\n",
                            "      <td>0</td>\n",
                            "    </tr>\n",
                            "  </tbody>\n",
                            "</table>\n",
                            "</div>"
                        ]
                    },
                    "metadata": {},
                    "execution_count": 5
                }
            ],
            "metadata": {}
        },
        {
            "cell_type": "code",
            "execution_count": 7,
            "source": [
                "df.isnull().values.any()"
            ],
            "outputs": [
                {
                    "output_type": "execute_result",
                    "data": {
                        "text/plain": [
                            "False"
                        ]
                    },
                    "metadata": {},
                    "execution_count": 7
                }
            ],
            "metadata": {}
        },
        {
            "cell_type": "code",
            "execution_count": 8,
            "source": [
                "    df.info()"
            ],
            "outputs": [
                {
                    "output_type": "stream",
                    "name": "stdout",
                    "text": [
                        "<class 'pandas.core.frame.DataFrame'>\n",
                        "RangeIndex: 6362620 entries, 0 to 6362619\n",
                        "Data columns (total 11 columns):\n",
                        " #   Column          Dtype  \n",
                        "---  ------          -----  \n",
                        " 0   step            int64  \n",
                        " 1   type            object \n",
                        " 2   amount          float64\n",
                        " 3   nameOrig        object \n",
                        " 4   oldbalanceOrg   float64\n",
                        " 5   newbalanceOrig  float64\n",
                        " 6   nameDest        object \n",
                        " 7   oldbalanceDest  float64\n",
                        " 8   newbalanceDest  float64\n",
                        " 9   isFraud         int64  \n",
                        " 10  isFlaggedFraud  int64  \n",
                        "dtypes: float64(5), int64(3), object(3)\n",
                        "memory usage: 534.0+ MB\n"
                    ]
                }
            ],
            "metadata": {}
        },
        {
            "cell_type": "code",
            "execution_count": 10,
            "source": [
                "import seaborn as sns\r\n",
                "import matplotlib.pyplot as plt\r\n",
                "import plotly.express as px\r\n",
                "import plotly.graph_objects as go\r\n",
                "from plotly.offline import plot, iplot, init_notebook_mode\r\n",
                "init_notebook_mode(connected=True)\r\n",
                "%matplotlib inline"
            ],
            "outputs": [
                {
                    "output_type": "display_data",
                    "data": {
                        "text/html": [
                            "        <script type=\"text/javascript\">\n",
                            "        window.PlotlyConfig = {MathJaxConfig: 'local'};\n",
                            "        if (window.MathJax) {MathJax.Hub.Config({SVG: {font: \"STIX-Web\"}});}\n",
                            "        if (typeof require !== 'undefined') {\n",
                            "        require.undef(\"plotly\");\n",
                            "        requirejs.config({\n",
                            "            paths: {\n",
                            "                'plotly': ['https://cdn.plot.ly/plotly-2.2.0.min']\n",
                            "            }\n",
                            "        });\n",
                            "        require(['plotly'], function(Plotly) {\n",
                            "            window._Plotly = Plotly;\n",
                            "        });\n",
                            "        }\n",
                            "        </script>\n",
                            "        "
                        ]
                    },
                    "metadata": {}
                }
            ],
            "metadata": {}
        },
        {
            "cell_type": "code",
            "execution_count": 11,
            "source": [
                "paysim_pivot1=pd.pivot_table(df,index=[\"type\"],values=['amount','isFraud','isFlaggedFraud'],aggfunc=[np.sum,np.std], margins=True)\r\n",
                "\r\n",
                "#Adding color gradient \r\n",
                "cm = sns.light_palette(\"green\", as_cmap=True)\r\n",
                "paysim_pivot1.style.background_gradient(cmap=cm)"
            ],
            "outputs": [
                {
                    "output_type": "execute_result",
                    "data": {
                        "text/plain": [
                            "<pandas.io.formats.style.Styler at 0x1f2fd5656d0>"
                        ],
                        "text/html": [
                            "<style  type=\"text/css\" >\n",
                            "    #T_bf9d3d5f_ff5f_11eb_ba7d_089798b95fb9row0_col0 {\n",
                            "            background-color:  #b7e5b7;\n",
                            "            color:  #000000;\n",
                            "        }    #T_bf9d3d5f_ff5f_11eb_ba7d_089798b95fb9row0_col1 {\n",
                            "            background-color:  #e5ffe5;\n",
                            "            color:  #000000;\n",
                            "        }    #T_bf9d3d5f_ff5f_11eb_ba7d_089798b95fb9row0_col2 {\n",
                            "            background-color:  #e5ffe5;\n",
                            "            color:  #000000;\n",
                            "        }    #T_bf9d3d5f_ff5f_11eb_ba7d_089798b95fb9row0_col3 {\n",
                            "            background-color:  #d8f8d8;\n",
                            "            color:  #000000;\n",
                            "        }    #T_bf9d3d5f_ff5f_11eb_ba7d_089798b95fb9row0_col4 {\n",
                            "            background-color:  #e5ffe5;\n",
                            "            color:  #000000;\n",
                            "        }    #T_bf9d3d5f_ff5f_11eb_ba7d_089798b95fb9row0_col5 {\n",
                            "            background-color:  #e5ffe5;\n",
                            "            color:  #000000;\n",
                            "        }    #T_bf9d3d5f_ff5f_11eb_ba7d_089798b95fb9row1_col0 {\n",
                            "            background-color:  #96d396;\n",
                            "            color:  #000000;\n",
                            "        }    #T_bf9d3d5f_ff5f_11eb_ba7d_089798b95fb9row1_col1 {\n",
                            "            background-color:  #e5ffe5;\n",
                            "            color:  #000000;\n",
                            "        }    #T_bf9d3d5f_ff5f_11eb_ba7d_089798b95fb9row1_col2 {\n",
                            "            background-color:  #72bf72;\n",
                            "            color:  #000000;\n",
                            "        }    #T_bf9d3d5f_ff5f_11eb_ba7d_089798b95fb9row1_col3 {\n",
                            "            background-color:  #d2f4d2;\n",
                            "            color:  #000000;\n",
                            "        }    #T_bf9d3d5f_ff5f_11eb_ba7d_089798b95fb9row1_col4 {\n",
                            "            background-color:  #e5ffe5;\n",
                            "            color:  #000000;\n",
                            "        }    #T_bf9d3d5f_ff5f_11eb_ba7d_089798b95fb9row1_col5 {\n",
                            "            background-color:  #75c175;\n",
                            "            color:  #000000;\n",
                            "        }    #T_bf9d3d5f_ff5f_11eb_ba7d_089798b95fb9row2_col0 {\n",
                            "            background-color:  #e5ffe5;\n",
                            "            color:  #000000;\n",
                            "        }    #T_bf9d3d5f_ff5f_11eb_ba7d_089798b95fb9row2_col1 {\n",
                            "            background-color:  #e5ffe5;\n",
                            "            color:  #000000;\n",
                            "        }    #T_bf9d3d5f_ff5f_11eb_ba7d_089798b95fb9row2_col2 {\n",
                            "            background-color:  #e5ffe5;\n",
                            "            color:  #000000;\n",
                            "        }    #T_bf9d3d5f_ff5f_11eb_ba7d_089798b95fb9row2_col3 {\n",
                            "            background-color:  #e5ffe5;\n",
                            "            color:  #000000;\n",
                            "        }    #T_bf9d3d5f_ff5f_11eb_ba7d_089798b95fb9row2_col4 {\n",
                            "            background-color:  #e5ffe5;\n",
                            "            color:  #000000;\n",
                            "        }    #T_bf9d3d5f_ff5f_11eb_ba7d_089798b95fb9row2_col5 {\n",
                            "            background-color:  #e5ffe5;\n",
                            "            color:  #000000;\n",
                            "        }    #T_bf9d3d5f_ff5f_11eb_ba7d_089798b95fb9row3_col0 {\n",
                            "            background-color:  #e0fce0;\n",
                            "            color:  #000000;\n",
                            "        }    #T_bf9d3d5f_ff5f_11eb_ba7d_089798b95fb9row3_col1 {\n",
                            "            background-color:  #e5ffe5;\n",
                            "            color:  #000000;\n",
                            "        }    #T_bf9d3d5f_ff5f_11eb_ba7d_089798b95fb9row3_col2 {\n",
                            "            background-color:  #e5ffe5;\n",
                            "            color:  #000000;\n",
                            "        }    #T_bf9d3d5f_ff5f_11eb_ba7d_089798b95fb9row3_col3 {\n",
                            "            background-color:  #e5ffe5;\n",
                            "            color:  #000000;\n",
                            "        }    #T_bf9d3d5f_ff5f_11eb_ba7d_089798b95fb9row3_col4 {\n",
                            "            background-color:  #e5ffe5;\n",
                            "            color:  #000000;\n",
                            "        }    #T_bf9d3d5f_ff5f_11eb_ba7d_089798b95fb9row3_col5 {\n",
                            "            background-color:  #e5ffe5;\n",
                            "            color:  #000000;\n",
                            "        }    #T_bf9d3d5f_ff5f_11eb_ba7d_089798b95fb9row4_col0 {\n",
                            "            background-color:  #84c984;\n",
                            "            color:  #000000;\n",
                            "        }    #T_bf9d3d5f_ff5f_11eb_ba7d_089798b95fb9row4_col1 {\n",
                            "            background-color:  #008000;\n",
                            "            color:  #f1f1f1;\n",
                            "        }    #T_bf9d3d5f_ff5f_11eb_ba7d_089798b95fb9row4_col2 {\n",
                            "            background-color:  #73c073;\n",
                            "            color:  #000000;\n",
                            "        }    #T_bf9d3d5f_ff5f_11eb_ba7d_089798b95fb9row4_col3 {\n",
                            "            background-color:  #008000;\n",
                            "            color:  #f1f1f1;\n",
                            "        }    #T_bf9d3d5f_ff5f_11eb_ba7d_089798b95fb9row4_col4 {\n",
                            "            background-color:  #008000;\n",
                            "            color:  #f1f1f1;\n",
                            "        }    #T_bf9d3d5f_ff5f_11eb_ba7d_089798b95fb9row4_col5 {\n",
                            "            background-color:  #008000;\n",
                            "            color:  #f1f1f1;\n",
                            "        }    #T_bf9d3d5f_ff5f_11eb_ba7d_089798b95fb9row5_col0 {\n",
                            "            background-color:  #008000;\n",
                            "            color:  #f1f1f1;\n",
                            "        }    #T_bf9d3d5f_ff5f_11eb_ba7d_089798b95fb9row5_col1 {\n",
                            "            background-color:  #008000;\n",
                            "            color:  #f1f1f1;\n",
                            "        }    #T_bf9d3d5f_ff5f_11eb_ba7d_089798b95fb9row5_col2 {\n",
                            "            background-color:  #008000;\n",
                            "            color:  #f1f1f1;\n",
                            "        }    #T_bf9d3d5f_ff5f_11eb_ba7d_089798b95fb9row5_col3 {\n",
                            "            background-color:  #9dd79d;\n",
                            "            color:  #000000;\n",
                            "        }    #T_bf9d3d5f_ff5f_11eb_ba7d_089798b95fb9row5_col4 {\n",
                            "            background-color:  #a3daa3;\n",
                            "            color:  #000000;\n",
                            "        }    #T_bf9d3d5f_ff5f_11eb_ba7d_089798b95fb9row5_col5 {\n",
                            "            background-color:  #87cb87;\n",
                            "            color:  #000000;\n",
                            "        }</style><table id=\"T_bf9d3d5f_ff5f_11eb_ba7d_089798b95fb9\" ><thead>    <tr>        <th class=\"blank level0\" ></th>        <th class=\"col_heading level0 col0\" colspan=3>sum</th>        <th class=\"col_heading level0 col3\" colspan=3>std</th>    </tr>    <tr>        <th class=\"blank level1\" ></th>        <th class=\"col_heading level1 col0\" >amount</th>        <th class=\"col_heading level1 col1\" >isFlaggedFraud</th>        <th class=\"col_heading level1 col2\" >isFraud</th>        <th class=\"col_heading level1 col3\" >amount</th>        <th class=\"col_heading level1 col4\" >isFlaggedFraud</th>        <th class=\"col_heading level1 col5\" >isFraud</th>    </tr>    <tr>        <th class=\"index_name level0\" >type</th>        <th class=\"blank\" ></th>        <th class=\"blank\" ></th>        <th class=\"blank\" ></th>        <th class=\"blank\" ></th>        <th class=\"blank\" ></th>        <th class=\"blank\" ></th>    </tr></thead><tbody>\n",
                            "                <tr>\n",
                            "                        <th id=\"T_bf9d3d5f_ff5f_11eb_ba7d_089798b95fb9level0_row0\" class=\"row_heading level0 row0\" >CASH_IN</th>\n",
                            "                        <td id=\"T_bf9d3d5f_ff5f_11eb_ba7d_089798b95fb9row0_col0\" class=\"data row0 col0\" >236367391912.458771</td>\n",
                            "                        <td id=\"T_bf9d3d5f_ff5f_11eb_ba7d_089798b95fb9row0_col1\" class=\"data row0 col1\" >0</td>\n",
                            "                        <td id=\"T_bf9d3d5f_ff5f_11eb_ba7d_089798b95fb9row0_col2\" class=\"data row0 col2\" >0</td>\n",
                            "                        <td id=\"T_bf9d3d5f_ff5f_11eb_ba7d_089798b95fb9row0_col3\" class=\"data row0 col3\" >126508.255272</td>\n",
                            "                        <td id=\"T_bf9d3d5f_ff5f_11eb_ba7d_089798b95fb9row0_col4\" class=\"data row0 col4\" >0.000000</td>\n",
                            "                        <td id=\"T_bf9d3d5f_ff5f_11eb_ba7d_089798b95fb9row0_col5\" class=\"data row0 col5\" >0.000000</td>\n",
                            "            </tr>\n",
                            "            <tr>\n",
                            "                        <th id=\"T_bf9d3d5f_ff5f_11eb_ba7d_089798b95fb9level0_row1\" class=\"row_heading level0 row1\" >CASH_OUT</th>\n",
                            "                        <td id=\"T_bf9d3d5f_ff5f_11eb_ba7d_089798b95fb9row1_col0\" class=\"data row1 col0\" >394412995224.487915</td>\n",
                            "                        <td id=\"T_bf9d3d5f_ff5f_11eb_ba7d_089798b95fb9row1_col1\" class=\"data row1 col1\" >0</td>\n",
                            "                        <td id=\"T_bf9d3d5f_ff5f_11eb_ba7d_089798b95fb9row1_col2\" class=\"data row1 col2\" >4116</td>\n",
                            "                        <td id=\"T_bf9d3d5f_ff5f_11eb_ba7d_089798b95fb9row1_col3\" class=\"data row1 col3\" >175329.744483</td>\n",
                            "                        <td id=\"T_bf9d3d5f_ff5f_11eb_ba7d_089798b95fb9row1_col4\" class=\"data row1 col4\" >0.000000</td>\n",
                            "                        <td id=\"T_bf9d3d5f_ff5f_11eb_ba7d_089798b95fb9row1_col5\" class=\"data row1 col5\" >0.042851</td>\n",
                            "            </tr>\n",
                            "            <tr>\n",
                            "                        <th id=\"T_bf9d3d5f_ff5f_11eb_ba7d_089798b95fb9level0_row2\" class=\"row_heading level0 row2\" >DEBIT</th>\n",
                            "                        <td id=\"T_bf9d3d5f_ff5f_11eb_ba7d_089798b95fb9row2_col0\" class=\"data row2 col0\" >227199221.279999</td>\n",
                            "                        <td id=\"T_bf9d3d5f_ff5f_11eb_ba7d_089798b95fb9row2_col1\" class=\"data row2 col1\" >0</td>\n",
                            "                        <td id=\"T_bf9d3d5f_ff5f_11eb_ba7d_089798b95fb9row2_col2\" class=\"data row2 col2\" >0</td>\n",
                            "                        <td id=\"T_bf9d3d5f_ff5f_11eb_ba7d_089798b95fb9row2_col3\" class=\"data row2 col3\" >13318.535518</td>\n",
                            "                        <td id=\"T_bf9d3d5f_ff5f_11eb_ba7d_089798b95fb9row2_col4\" class=\"data row2 col4\" >0.000000</td>\n",
                            "                        <td id=\"T_bf9d3d5f_ff5f_11eb_ba7d_089798b95fb9row2_col5\" class=\"data row2 col5\" >0.000000</td>\n",
                            "            </tr>\n",
                            "            <tr>\n",
                            "                        <th id=\"T_bf9d3d5f_ff5f_11eb_ba7d_089798b95fb9level0_row3\" class=\"row_heading level0 row3\" >PAYMENT</th>\n",
                            "                        <td id=\"T_bf9d3d5f_ff5f_11eb_ba7d_089798b95fb9row3_col0\" class=\"data row3 col0\" >28093371138.369801</td>\n",
                            "                        <td id=\"T_bf9d3d5f_ff5f_11eb_ba7d_089798b95fb9row3_col1\" class=\"data row3 col1\" >0</td>\n",
                            "                        <td id=\"T_bf9d3d5f_ff5f_11eb_ba7d_089798b95fb9row3_col2\" class=\"data row3 col2\" >0</td>\n",
                            "                        <td id=\"T_bf9d3d5f_ff5f_11eb_ba7d_089798b95fb9row3_col3\" class=\"data row3 col3\" >12556.450186</td>\n",
                            "                        <td id=\"T_bf9d3d5f_ff5f_11eb_ba7d_089798b95fb9row3_col4\" class=\"data row3 col4\" >0.000000</td>\n",
                            "                        <td id=\"T_bf9d3d5f_ff5f_11eb_ba7d_089798b95fb9row3_col5\" class=\"data row3 col5\" >0.000000</td>\n",
                            "            </tr>\n",
                            "            <tr>\n",
                            "                        <th id=\"T_bf9d3d5f_ff5f_11eb_ba7d_089798b95fb9level0_row4\" class=\"row_heading level0 row4\" >TRANSFER</th>\n",
                            "                        <td id=\"T_bf9d3d5f_ff5f_11eb_ba7d_089798b95fb9row4_col0\" class=\"data row4 col0\" >485291987263.161987</td>\n",
                            "                        <td id=\"T_bf9d3d5f_ff5f_11eb_ba7d_089798b95fb9row4_col1\" class=\"data row4 col1\" >16</td>\n",
                            "                        <td id=\"T_bf9d3d5f_ff5f_11eb_ba7d_089798b95fb9row4_col2\" class=\"data row4 col2\" >4097</td>\n",
                            "                        <td id=\"T_bf9d3d5f_ff5f_11eb_ba7d_089798b95fb9row4_col3\" class=\"data row4 col3\" >1879573.528908</td>\n",
                            "                        <td id=\"T_bf9d3d5f_ff5f_11eb_ba7d_089798b95fb9row4_col4\" class=\"data row4 col4\" >0.005479</td>\n",
                            "                        <td id=\"T_bf9d3d5f_ff5f_11eb_ba7d_089798b95fb9row4_col5\" class=\"data row4 col5\" >0.087344</td>\n",
                            "            </tr>\n",
                            "            <tr>\n",
                            "                        <th id=\"T_bf9d3d5f_ff5f_11eb_ba7d_089798b95fb9level0_row5\" class=\"row_heading level0 row5\" >All</th>\n",
                            "                        <td id=\"T_bf9d3d5f_ff5f_11eb_ba7d_089798b95fb9row5_col0\" class=\"data row5 col0\" >1144392944759.770020</td>\n",
                            "                        <td id=\"T_bf9d3d5f_ff5f_11eb_ba7d_089798b95fb9row5_col1\" class=\"data row5 col1\" >16</td>\n",
                            "                        <td id=\"T_bf9d3d5f_ff5f_11eb_ba7d_089798b95fb9row5_col2\" class=\"data row5 col2\" >8213</td>\n",
                            "                        <td id=\"T_bf9d3d5f_ff5f_11eb_ba7d_089798b95fb9row5_col3\" class=\"data row5 col3\" >603858.184009</td>\n",
                            "                        <td id=\"T_bf9d3d5f_ff5f_11eb_ba7d_089798b95fb9row5_col4\" class=\"data row5 col4\" >0.001586</td>\n",
                            "                        <td id=\"T_bf9d3d5f_ff5f_11eb_ba7d_089798b95fb9row5_col5\" class=\"data row5 col5\" >0.035905</td>\n",
                            "            </tr>\n",
                            "    </tbody></table>"
                        ]
                    },
                    "metadata": {},
                    "execution_count": 11
                }
            ],
            "metadata": {}
        },
        {
            "cell_type": "code",
            "execution_count": 13,
            "source": [
                "paysim_pivot2=pd.pivot_table(df,index=[\"type\"],\r\n",
                "                               values=['amount','oldbalanceOrg','newbalanceOrig'],\r\n",
                "                               aggfunc=[np.sum], margins=True)\r\n",
                "\r\n",
                "#Adding style\r\n",
                "paysim_pivot2.style\\\r\n",
                "    .format('{:.2f}')\\\r\n",
                "    .bar(align='mid',color=['darkred'])\\\r\n",
                "    .set_properties(padding='5px',border='3px solid white',width='200px')"
            ],
            "outputs": [
                {
                    "output_type": "execute_result",
                    "data": {
                        "text/plain": [
                            "<pandas.io.formats.style.Styler at 0x1f2fad07a30>"
                        ],
                        "text/html": [
                            "<style  type=\"text/css\" >\n",
                            "    #T_d042cd10_ff5f_11eb_b730_089798b95fb9row0_col0 {\n",
                            "            width:  10em;\n",
                            "             height:  80%;\n",
                            "            background:  linear-gradient(90deg,darkred 20.7%, transparent 20.7%);\n",
                            "            padding:  5px;\n",
                            "            border:  3px solid white;\n",
                            "            width:  200px;\n",
                            "        }    #T_d042cd10_ff5f_11eb_b730_089798b95fb9row0_col1 {\n",
                            "            width:  10em;\n",
                            "             height:  80%;\n",
                            "            background:  linear-gradient(90deg,darkred 96.7%, transparent 96.7%);\n",
                            "            padding:  5px;\n",
                            "            border:  3px solid white;\n",
                            "            width:  200px;\n",
                            "        }    #T_d042cd10_ff5f_11eb_b730_089798b95fb9row0_col2 {\n",
                            "            width:  10em;\n",
                            "             height:  80%;\n",
                            "            background:  linear-gradient(90deg,darkred 94.7%, transparent 94.7%);\n",
                            "            padding:  5px;\n",
                            "            border:  3px solid white;\n",
                            "            width:  200px;\n",
                            "        }    #T_d042cd10_ff5f_11eb_b730_089798b95fb9row1_col0 {\n",
                            "            width:  10em;\n",
                            "             height:  80%;\n",
                            "            background:  linear-gradient(90deg,darkred 34.5%, transparent 34.5%);\n",
                            "            padding:  5px;\n",
                            "            border:  3px solid white;\n",
                            "            width:  200px;\n",
                            "        }    #T_d042cd10_ff5f_11eb_b730_089798b95fb9row1_col1 {\n",
                            "            width:  10em;\n",
                            "             height:  80%;\n",
                            "            background:  linear-gradient(90deg,darkred 0.7%, transparent 0.7%);\n",
                            "            padding:  5px;\n",
                            "            border:  3px solid white;\n",
                            "            width:  200px;\n",
                            "        }    #T_d042cd10_ff5f_11eb_b730_089798b95fb9row1_col2 {\n",
                            "            width:  10em;\n",
                            "             height:  80%;\n",
                            "            background:  linear-gradient(90deg,darkred 1.9%, transparent 1.9%);\n",
                            "            padding:  5px;\n",
                            "            border:  3px solid white;\n",
                            "            width:  200px;\n",
                            "        }    #T_d042cd10_ff5f_11eb_b730_089798b95fb9row2_col0 {\n",
                            "            width:  10em;\n",
                            "             height:  80%;\n",
                            "            background:  linear-gradient(90deg,darkred 0.0%, transparent 0.0%);\n",
                            "            padding:  5px;\n",
                            "            border:  3px solid white;\n",
                            "            width:  200px;\n",
                            "        }    #T_d042cd10_ff5f_11eb_b730_089798b95fb9row2_col1 {\n",
                            "            width:  10em;\n",
                            "             height:  80%;\n",
                            "            background:  linear-gradient(90deg,darkred 0.0%, transparent 0.0%);\n",
                            "            padding:  5px;\n",
                            "            border:  3px solid white;\n",
                            "            width:  200px;\n",
                            "        }    #T_d042cd10_ff5f_11eb_b730_089798b95fb9row2_col2 {\n",
                            "            width:  10em;\n",
                            "             height:  80%;\n",
                            "            background:  linear-gradient(90deg,darkred 0.1%, transparent 0.1%);\n",
                            "            padding:  5px;\n",
                            "            border:  3px solid white;\n",
                            "            width:  200px;\n",
                            "        }    #T_d042cd10_ff5f_11eb_b730_089798b95fb9row3_col0 {\n",
                            "            width:  10em;\n",
                            "             height:  80%;\n",
                            "            background:  linear-gradient(90deg,darkred 2.5%, transparent 2.5%);\n",
                            "            padding:  5px;\n",
                            "            border:  3px solid white;\n",
                            "            width:  200px;\n",
                            "        }    #T_d042cd10_ff5f_11eb_b730_089798b95fb9row3_col1 {\n",
                            "            width:  10em;\n",
                            "             height:  80%;\n",
                            "            background:  linear-gradient(90deg,darkred 2.4%, transparent 2.4%);\n",
                            "            padding:  5px;\n",
                            "            border:  3px solid white;\n",
                            "            width:  200px;\n",
                            "        }    #T_d042cd10_ff5f_11eb_b730_089798b95fb9row3_col2 {\n",
                            "            width:  10em;\n",
                            "             height:  80%;\n",
                            "            background:  linear-gradient(90deg,darkred 2.8%, transparent 2.8%);\n",
                            "            padding:  5px;\n",
                            "            border:  3px solid white;\n",
                            "            width:  200px;\n",
                            "        }    #T_d042cd10_ff5f_11eb_b730_089798b95fb9row4_col0 {\n",
                            "            width:  10em;\n",
                            "             height:  80%;\n",
                            "            background:  linear-gradient(90deg,darkred 42.4%, transparent 42.4%);\n",
                            "            padding:  5px;\n",
                            "            border:  3px solid white;\n",
                            "            width:  200px;\n",
                            "        }    #T_d042cd10_ff5f_11eb_b730_089798b95fb9row4_col1 {\n",
                            "            width:  10em;\n",
                            "             height:  80%;\n",
                            "            background:  linear-gradient(90deg,darkred 0.1%, transparent 0.1%);\n",
                            "            padding:  5px;\n",
                            "            border:  3px solid white;\n",
                            "            width:  200px;\n",
                            "        }    #T_d042cd10_ff5f_11eb_b730_089798b95fb9row4_col2 {\n",
                            "            width:  10em;\n",
                            "             height:  80%;\n",
                            "            background:  linear-gradient(90deg,darkred 0.5%, transparent 0.5%);\n",
                            "            padding:  5px;\n",
                            "            border:  3px solid white;\n",
                            "            width:  200px;\n",
                            "        }    #T_d042cd10_ff5f_11eb_b730_089798b95fb9row5_col0 {\n",
                            "            width:  10em;\n",
                            "             height:  80%;\n",
                            "            background:  linear-gradient(90deg,darkred 100.0%, transparent 100.0%);\n",
                            "            padding:  5px;\n",
                            "            border:  3px solid white;\n",
                            "            width:  200px;\n",
                            "        }    #T_d042cd10_ff5f_11eb_b730_089798b95fb9row5_col1 {\n",
                            "            width:  10em;\n",
                            "             height:  80%;\n",
                            "            background:  linear-gradient(90deg,darkred 100.0%, transparent 100.0%);\n",
                            "            padding:  5px;\n",
                            "            border:  3px solid white;\n",
                            "            width:  200px;\n",
                            "        }    #T_d042cd10_ff5f_11eb_b730_089798b95fb9row5_col2 {\n",
                            "            width:  10em;\n",
                            "             height:  80%;\n",
                            "            background:  linear-gradient(90deg,darkred 100.0%, transparent 100.0%);\n",
                            "            padding:  5px;\n",
                            "            border:  3px solid white;\n",
                            "            width:  200px;\n",
                            "        }</style><table id=\"T_d042cd10_ff5f_11eb_b730_089798b95fb9\" ><thead>    <tr>        <th class=\"blank level0\" ></th>        <th class=\"col_heading level0 col0\" colspan=3>sum</th>    </tr>    <tr>        <th class=\"blank level1\" ></th>        <th class=\"col_heading level1 col0\" >amount</th>        <th class=\"col_heading level1 col1\" >newbalanceOrig</th>        <th class=\"col_heading level1 col2\" >oldbalanceOrg</th>    </tr>    <tr>        <th class=\"index_name level0\" >type</th>        <th class=\"blank\" ></th>        <th class=\"blank\" ></th>        <th class=\"blank\" ></th>    </tr></thead><tbody>\n",
                            "                <tr>\n",
                            "                        <th id=\"T_d042cd10_ff5f_11eb_b730_089798b95fb9level0_row0\" class=\"row_heading level0 row0\" >CASH_IN</th>\n",
                            "                        <td id=\"T_d042cd10_ff5f_11eb_b730_089798b95fb9row0_col0\" class=\"data row0 col0\" >236367391912.46</td>\n",
                            "                        <td id=\"T_d042cd10_ff5f_11eb_b730_089798b95fb9row0_col1\" class=\"data row0 col1\" >5260438481752.40</td>\n",
                            "                        <td id=\"T_d042cd10_ff5f_11eb_b730_089798b95fb9row0_col2\" class=\"data row0 col2\" >5024078139747.30</td>\n",
                            "            </tr>\n",
                            "            <tr>\n",
                            "                        <th id=\"T_d042cd10_ff5f_11eb_b730_089798b95fb9level0_row1\" class=\"row_heading level0 row1\" >CASH_OUT</th>\n",
                            "                        <td id=\"T_d042cd10_ff5f_11eb_b730_089798b95fb9row1_col0\" class=\"data row1 col0\" >394412995224.49</td>\n",
                            "                        <td id=\"T_d042cd10_ff5f_11eb_b730_089798b95fb9row1_col1\" class=\"data row1 col1\" >39098506249.34</td>\n",
                            "                        <td id=\"T_d042cd10_ff5f_11eb_b730_089798b95fb9row1_col2\" class=\"data row1 col2\" >102978263227.81</td>\n",
                            "            </tr>\n",
                            "            <tr>\n",
                            "                        <th id=\"T_d042cd10_ff5f_11eb_b730_089798b95fb9level0_row2\" class=\"row_heading level0 row2\" >DEBIT</th>\n",
                            "                        <td id=\"T_d042cd10_ff5f_11eb_b730_089798b95fb9row2_col0\" class=\"data row2 col0\" >227199221.28</td>\n",
                            "                        <td id=\"T_d042cd10_ff5f_11eb_b730_089798b95fb9row2_col1\" class=\"data row2 col1\" >2699777564.12</td>\n",
                            "                        <td id=\"T_d042cd10_ff5f_11eb_b730_089798b95fb9row2_col2\" class=\"data row2 col2\" >2844196471.80</td>\n",
                            "            </tr>\n",
                            "            <tr>\n",
                            "                        <th id=\"T_d042cd10_ff5f_11eb_b730_089798b95fb9level0_row3\" class=\"row_heading level0 row3\" >PAYMENT</th>\n",
                            "                        <td id=\"T_d042cd10_ff5f_11eb_b730_089798b95fb9row3_col0\" class=\"data row3 col0\" >28093371138.37</td>\n",
                            "                        <td id=\"T_d042cd10_ff5f_11eb_b730_089798b95fb9row3_col1\" class=\"data row3 col1\" >133043913105.10</td>\n",
                            "                        <td id=\"T_d042cd10_ff5f_11eb_b730_089798b95fb9row3_col2\" class=\"data row3 col2\" >146768163438.79</td>\n",
                            "            </tr>\n",
                            "            <tr>\n",
                            "                        <th id=\"T_d042cd10_ff5f_11eb_b730_089798b95fb9level0_row4\" class=\"row_heading level0 row4\" >TRANSFER</th>\n",
                            "                        <td id=\"T_d042cd10_ff5f_11eb_b730_089798b95fb9row4_col0\" class=\"data row4 col0\" >485291987263.16</td>\n",
                            "                        <td id=\"T_d042cd10_ff5f_11eb_b730_089798b95fb9row4_col1\" class=\"data row4 col1\" >5482651300.55</td>\n",
                            "                        <td id=\"T_d042cd10_ff5f_11eb_b730_089798b95fb9row4_col2\" class=\"data row4 col2\" >29012552760.76</td>\n",
                            "            </tr>\n",
                            "            <tr>\n",
                            "                        <th id=\"T_d042cd10_ff5f_11eb_b730_089798b95fb9level0_row5\" class=\"row_heading level0 row5\" >All</th>\n",
                            "                        <td id=\"T_d042cd10_ff5f_11eb_b730_089798b95fb9row5_col0\" class=\"data row5 col0\" >1144392944759.77</td>\n",
                            "                        <td id=\"T_d042cd10_ff5f_11eb_b730_089798b95fb9row5_col1\" class=\"data row5 col1\" >5440763329971.49</td>\n",
                            "                        <td id=\"T_d042cd10_ff5f_11eb_b730_089798b95fb9row5_col2\" class=\"data row5 col2\" >5305681315646.41</td>\n",
                            "            </tr>\n",
                            "    </tbody></table>"
                        ]
                    },
                    "metadata": {},
                    "execution_count": 13
                }
            ],
            "metadata": {}
        },
        {
            "cell_type": "code",
            "execution_count": 14,
            "source": [
                "paysim_pivot3=pd.pivot_table(df,index=[\"type\"],\r\n",
                "                               values=['amount','oldbalanceDest','newbalanceDest'],\r\n",
                "                               aggfunc=[np.sum], margins=True)\r\n",
                "\r\n",
                "#Adding style\r\n",
                "paysim_pivot3.style\\\r\n",
                "    .format('{:.2f}')\\\r\n",
                "    .bar(align='mid',color=['darkblue'])\\\r\n",
                "    .set_properties(padding='5px',border='3px solid white',width='200px')"
            ],
            "outputs": [
                {
                    "output_type": "execute_result",
                    "data": {
                        "text/plain": [
                            "<pandas.io.formats.style.Styler at 0x1f31d54bf40>"
                        ],
                        "text/html": [
                            "<style  type=\"text/css\" >\n",
                            "    #T_fc2389c6_ff5f_11eb_b1e6_089798b95fb9row0_col0 {\n",
                            "            width:  10em;\n",
                            "             height:  80%;\n",
                            "            background:  linear-gradient(90deg,darkblue 20.7%, transparent 20.7%);\n",
                            "            padding:  5px;\n",
                            "            border:  3px solid white;\n",
                            "            width:  200px;\n",
                            "        }    #T_fc2389c6_ff5f_11eb_b1e6_089798b95fb9row0_col1 {\n",
                            "            width:  10em;\n",
                            "             height:  80%;\n",
                            "            background:  linear-gradient(90deg,darkblue 26.3%, transparent 26.3%);\n",
                            "            padding:  5px;\n",
                            "            border:  3px solid white;\n",
                            "            width:  200px;\n",
                            "        }    #T_fc2389c6_ff5f_11eb_b1e6_089798b95fb9row0_col2 {\n",
                            "            width:  10em;\n",
                            "             height:  80%;\n",
                            "            background:  linear-gradient(90deg,darkblue 31.7%, transparent 31.7%);\n",
                            "            padding:  5px;\n",
                            "            border:  3px solid white;\n",
                            "            width:  200px;\n",
                            "        }    #T_fc2389c6_ff5f_11eb_b1e6_089798b95fb9row1_col0 {\n",
                            "            width:  10em;\n",
                            "             height:  80%;\n",
                            "            background:  linear-gradient(90deg,darkblue 34.5%, transparent 34.5%);\n",
                            "            padding:  5px;\n",
                            "            border:  3px solid white;\n",
                            "            width:  200px;\n",
                            "        }    #T_fc2389c6_ff5f_11eb_b1e6_089798b95fb9row1_col1 {\n",
                            "            width:  10em;\n",
                            "             height:  80%;\n",
                            "            background:  linear-gradient(90deg,darkblue 48.6%, transparent 48.6%);\n",
                            "            padding:  5px;\n",
                            "            border:  3px solid white;\n",
                            "            width:  200px;\n",
                            "        }    #T_fc2389c6_ff5f_11eb_b1e6_089798b95fb9row1_col2 {\n",
                            "            width:  10em;\n",
                            "             height:  80%;\n",
                            "            background:  linear-gradient(90deg,darkblue 47.9%, transparent 47.9%);\n",
                            "            padding:  5px;\n",
                            "            border:  3px solid white;\n",
                            "            width:  200px;\n",
                            "        }    #T_fc2389c6_ff5f_11eb_b1e6_089798b95fb9row2_col0 {\n",
                            "            width:  10em;\n",
                            "             height:  80%;\n",
                            "            background:  linear-gradient(90deg,darkblue 0.0%, transparent 0.0%);\n",
                            "            padding:  5px;\n",
                            "            border:  3px solid white;\n",
                            "            width:  200px;\n",
                            "        }    #T_fc2389c6_ff5f_11eb_b1e6_089798b95fb9row2_col1 {\n",
                            "            width:  10em;\n",
                            "             height:  80%;\n",
                            "            background:  linear-gradient(90deg,darkblue 0.8%, transparent 0.8%);\n",
                            "            padding:  5px;\n",
                            "            border:  3px solid white;\n",
                            "            width:  200px;\n",
                            "        }    #T_fc2389c6_ff5f_11eb_b1e6_089798b95fb9row2_col2 {\n",
                            "            width:  10em;\n",
                            "             height:  80%;\n",
                            "            background:  linear-gradient(90deg,darkblue 0.9%, transparent 0.9%);\n",
                            "            padding:  5px;\n",
                            "            border:  3px solid white;\n",
                            "            width:  200px;\n",
                            "        }    #T_fc2389c6_ff5f_11eb_b1e6_089798b95fb9row3_col0 {\n",
                            "            width:  10em;\n",
                            "             height:  80%;\n",
                            "            background:  linear-gradient(90deg,darkblue 2.5%, transparent 2.5%);\n",
                            "            padding:  5px;\n",
                            "            border:  3px solid white;\n",
                            "            width:  200px;\n",
                            "        }    #T_fc2389c6_ff5f_11eb_b1e6_089798b95fb9row3_col1 {\n",
                            "            width:  10em;\n",
                            "             height:  80%;\n",
                            "            padding:  5px;\n",
                            "            border:  3px solid white;\n",
                            "            width:  200px;\n",
                            "        }    #T_fc2389c6_ff5f_11eb_b1e6_089798b95fb9row3_col2 {\n",
                            "            width:  10em;\n",
                            "             height:  80%;\n",
                            "            padding:  5px;\n",
                            "            border:  3px solid white;\n",
                            "            width:  200px;\n",
                            "        }    #T_fc2389c6_ff5f_11eb_b1e6_089798b95fb9row4_col0 {\n",
                            "            width:  10em;\n",
                            "             height:  80%;\n",
                            "            background:  linear-gradient(90deg,darkblue 42.4%, transparent 42.4%);\n",
                            "            padding:  5px;\n",
                            "            border:  3px solid white;\n",
                            "            width:  200px;\n",
                            "        }    #T_fc2389c6_ff5f_11eb_b1e6_089798b95fb9row4_col1 {\n",
                            "            width:  10em;\n",
                            "             height:  80%;\n",
                            "            background:  linear-gradient(90deg,darkblue 24.3%, transparent 24.3%);\n",
                            "            padding:  5px;\n",
                            "            border:  3px solid white;\n",
                            "            width:  200px;\n",
                            "        }    #T_fc2389c6_ff5f_11eb_b1e6_089798b95fb9row4_col2 {\n",
                            "            width:  10em;\n",
                            "             height:  80%;\n",
                            "            background:  linear-gradient(90deg,darkblue 19.5%, transparent 19.5%);\n",
                            "            padding:  5px;\n",
                            "            border:  3px solid white;\n",
                            "            width:  200px;\n",
                            "        }    #T_fc2389c6_ff5f_11eb_b1e6_089798b95fb9row5_col0 {\n",
                            "            width:  10em;\n",
                            "             height:  80%;\n",
                            "            background:  linear-gradient(90deg,darkblue 100.0%, transparent 100.0%);\n",
                            "            padding:  5px;\n",
                            "            border:  3px solid white;\n",
                            "            width:  200px;\n",
                            "        }    #T_fc2389c6_ff5f_11eb_b1e6_089798b95fb9row5_col1 {\n",
                            "            width:  10em;\n",
                            "             height:  80%;\n",
                            "            background:  linear-gradient(90deg,darkblue 100.0%, transparent 100.0%);\n",
                            "            padding:  5px;\n",
                            "            border:  3px solid white;\n",
                            "            width:  200px;\n",
                            "        }    #T_fc2389c6_ff5f_11eb_b1e6_089798b95fb9row5_col2 {\n",
                            "            width:  10em;\n",
                            "             height:  80%;\n",
                            "            background:  linear-gradient(90deg,darkblue 100.0%, transparent 100.0%);\n",
                            "            padding:  5px;\n",
                            "            border:  3px solid white;\n",
                            "            width:  200px;\n",
                            "        }</style><table id=\"T_fc2389c6_ff5f_11eb_b1e6_089798b95fb9\" ><thead>    <tr>        <th class=\"blank level0\" ></th>        <th class=\"col_heading level0 col0\" colspan=3>sum</th>    </tr>    <tr>        <th class=\"blank level1\" ></th>        <th class=\"col_heading level1 col0\" >amount</th>        <th class=\"col_heading level1 col1\" >newbalanceDest</th>        <th class=\"col_heading level1 col2\" >oldbalanceDest</th>    </tr>    <tr>        <th class=\"index_name level0\" >type</th>        <th class=\"blank\" ></th>        <th class=\"blank\" ></th>        <th class=\"blank\" ></th>    </tr></thead><tbody>\n",
                            "                <tr>\n",
                            "                        <th id=\"T_fc2389c6_ff5f_11eb_b1e6_089798b95fb9level0_row0\" class=\"row_heading level0 row0\" >CASH_IN</th>\n",
                            "                        <td id=\"T_fc2389c6_ff5f_11eb_b1e6_089798b95fb9row0_col0\" class=\"data row0 col0\" >236367391912.46</td>\n",
                            "                        <td id=\"T_fc2389c6_ff5f_11eb_b1e6_089798b95fb9row0_col1\" class=\"data row0 col1\" >2052897091879.15</td>\n",
                            "                        <td id=\"T_fc2389c6_ff5f_11eb_b1e6_089798b95fb9row0_col2\" class=\"data row0 col2\" >2221949365238.98</td>\n",
                            "            </tr>\n",
                            "            <tr>\n",
                            "                        <th id=\"T_fc2389c6_ff5f_11eb_b1e6_089798b95fb9level0_row1\" class=\"row_heading level0 row1\" >CASH_OUT</th>\n",
                            "                        <td id=\"T_fc2389c6_ff5f_11eb_b1e6_089798b95fb9row1_col0\" class=\"data row1 col0\" >394412995224.49</td>\n",
                            "                        <td id=\"T_fc2389c6_ff5f_11eb_b1e6_089798b95fb9row1_col1\" class=\"data row1 col1\" >3784342078061.15</td>\n",
                            "                        <td id=\"T_fc2389c6_ff5f_11eb_b1e6_089798b95fb9row1_col2\" class=\"data row1 col2\" >3351233273577.78</td>\n",
                            "            </tr>\n",
                            "            <tr>\n",
                            "                        <th id=\"T_fc2389c6_ff5f_11eb_b1e6_089798b95fb9level0_row2\" class=\"row_heading level0 row2\" >DEBIT</th>\n",
                            "                        <td id=\"T_fc2389c6_ff5f_11eb_b1e6_089798b95fb9row2_col0\" class=\"data row2 col0\" >227199221.28</td>\n",
                            "                        <td id=\"T_fc2389c6_ff5f_11eb_b1e6_089798b95fb9row2_col1\" class=\"data row2 col1\" >62686759687.09</td>\n",
                            "                        <td id=\"T_fc2389c6_ff5f_11eb_b1e6_089798b95fb9row2_col2\" class=\"data row2 col2\" >61863601275.22</td>\n",
                            "            </tr>\n",
                            "            <tr>\n",
                            "                        <th id=\"T_fc2389c6_ff5f_11eb_b1e6_089798b95fb9level0_row3\" class=\"row_heading level0 row3\" >PAYMENT</th>\n",
                            "                        <td id=\"T_fc2389c6_ff5f_11eb_b1e6_089798b95fb9row3_col0\" class=\"data row3 col0\" >28093371138.37</td>\n",
                            "                        <td id=\"T_fc2389c6_ff5f_11eb_b1e6_089798b95fb9row3_col1\" class=\"data row3 col1\" >0.00</td>\n",
                            "                        <td id=\"T_fc2389c6_ff5f_11eb_b1e6_089798b95fb9row3_col2\" class=\"data row3 col2\" >0.00</td>\n",
                            "            </tr>\n",
                            "            <tr>\n",
                            "                        <th id=\"T_fc2389c6_ff5f_11eb_b1e6_089798b95fb9level0_row4\" class=\"row_heading level0 row4\" >TRANSFER</th>\n",
                            "                        <td id=\"T_fc2389c6_ff5f_11eb_b1e6_089798b95fb9row4_col0\" class=\"data row4 col0\" >485291987263.16</td>\n",
                            "                        <td id=\"T_fc2389c6_ff5f_11eb_b1e6_089798b95fb9row4_col1\" class=\"data row4 col1\" >1894260653500.26</td>\n",
                            "                        <td id=\"T_fc2389c6_ff5f_11eb_b1e6_089798b95fb9row4_col2\" class=\"data row4 col2\" >1368300197339.44</td>\n",
                            "            </tr>\n",
                            "            <tr>\n",
                            "                        <th id=\"T_fc2389c6_ff5f_11eb_b1e6_089798b95fb9level0_row5\" class=\"row_heading level0 row5\" >All</th>\n",
                            "                        <td id=\"T_fc2389c6_ff5f_11eb_b1e6_089798b95fb9row5_col0\" class=\"data row5 col0\" >1144392944759.77</td>\n",
                            "                        <td id=\"T_fc2389c6_ff5f_11eb_b1e6_089798b95fb9row5_col1\" class=\"data row5 col1\" >7794186583127.56</td>\n",
                            "                        <td id=\"T_fc2389c6_ff5f_11eb_b1e6_089798b95fb9row5_col2\" class=\"data row5 col2\" >7003346437431.25</td>\n",
                            "            </tr>\n",
                            "    </tbody></table>"
                        ]
                    },
                    "metadata": {},
                    "execution_count": 14
                }
            ],
            "metadata": {}
        },
        {
            "cell_type": "code",
            "execution_count": 15,
            "source": [
                "def balance_diff(data):\r\n",
                "    '''balance_diff checks whether the money debited from sender has exactly credited to the receiver\r\n",
                "       then it creates a new column which indicates 1 when there is a deviation else 0'''\r\n",
                "    #Sender's balance\r\n",
                "    orig_change=data['newbalanceOrig']-data['oldbalanceOrg']\r\n",
                "    orig_change=orig_change.astype(int)\r\n",
                "    for i in orig_change:\r\n",
                "        if i<0:\r\n",
                "            data['orig_txn_diff']=round(data['amount']+orig_change,2)\r\n",
                "        else:\r\n",
                "            data['orig_txn_diff']=round(data['amount']-orig_change,2)\r\n",
                "    data['orig_txn_diff']=data['orig_txn_diff'].astype(int)\r\n",
                "    data['orig_diff'] = [1 if n !=0 else 0 for n in data['orig_txn_diff']] \r\n",
                "    \r\n",
                "    #Receiver's balance\r\n",
                "    dest_change=data['newbalanceDest']-data['oldbalanceDest']\r\n",
                "    dest_change=dest_change.astype(int)\r\n",
                "    for i in dest_change:\r\n",
                "        if i<0:\r\n",
                "            data['dest_txn_diff']=round(data['amount']+dest_change,2)\r\n",
                "        else:\r\n",
                "            data['dest_txn_diff']=round(data['amount']-dest_change,2)\r\n",
                "    data['dest_txn_diff']=data['dest_txn_diff'].astype(int)\r\n",
                "    data['dest_diff'] = [1 if n !=0 else 0 for n in data['dest_txn_diff']] \r\n",
                "    \r\n",
                "    data.drop(['orig_txn_diff','dest_txn_diff'],axis=1,inplace = True)\r\n",
                "    \r\n",
                "#Surge indicator\r\n",
                "def surge_indicator(data):\r\n",
                "    '''Creates a new column which has 1 if the transaction amount is greater than the threshold\r\n",
                "    else it will be 0'''\r\n",
                "    data['surge']=[1 if n>450000 else 0 for n in data['amount']]\r\n",
                "\r\n",
                "#Frequency indicator\r\n",
                "def frequency_receiver(data):\r\n",
                "    '''Creates a new column which has 1 if the receiver receives money from many individuals\r\n",
                "    else it will be 0'''\r\n",
                "    data['freq_Dest']=data['nameDest'].map(data['nameDest'].value_counts())\r\n",
                "    data['freq_dest']=[1 if n>20 else 0 for n in data['freq_Dest']]\r\n",
                "    \r\n",
                "    data.drop(['freq_Dest'],axis=1,inplace = True)\r\n",
                "\r\n",
                "#Tracking the receiver as merchant or not\r\n",
                "def merchant(data):\r\n",
                "    '''We also have customer ids which starts with M in Receiver name, it indicates merchant\r\n",
                "    this function will flag if there is a merchant in receiver end '''\r\n",
                "    values = ['M']\r\n",
                "    conditions = list(map(data['nameDest'].str.contains, values))\r\n",
                "    data['merchant'] = np.select(conditions, '1', '0')"
            ],
            "outputs": [],
            "metadata": {}
        },
        {
            "cell_type": "code",
            "execution_count": 18,
            "source": [
                "#Applying balance_diff function\r\n",
                "balance_diff(df)\r\n",
                "\r\n",
                "df['orig_diff'].value_counts()\r\n",
                "df['dest_diff'].value_counts()"
            ],
            "outputs": [
                {
                    "output_type": "error",
                    "ename": "KeyboardInterrupt",
                    "evalue": "",
                    "traceback": [
                        "\u001b[1;31m---------------------------------------------------------------------------\u001b[0m",
                        "\u001b[1;31mKeyboardInterrupt\u001b[0m                         Traceback (most recent call last)",
                        "\u001b[1;32m<ipython-input-18-b9bf7e44cdf3>\u001b[0m in \u001b[0;36m<module>\u001b[1;34m\u001b[0m\n\u001b[0;32m      1\u001b[0m \u001b[1;31m#Applying balance_diff function\u001b[0m\u001b[1;33m\u001b[0m\u001b[1;33m\u001b[0m\u001b[1;33m\u001b[0m\u001b[0m\n\u001b[1;32m----> 2\u001b[1;33m \u001b[0mbalance_diff\u001b[0m\u001b[1;33m(\u001b[0m\u001b[0mdf\u001b[0m\u001b[1;33m)\u001b[0m\u001b[1;33m\u001b[0m\u001b[1;33m\u001b[0m\u001b[0m\n\u001b[0m\u001b[0;32m      3\u001b[0m \u001b[1;33m\u001b[0m\u001b[0m\n\u001b[0;32m      4\u001b[0m \u001b[0mdf\u001b[0m\u001b[1;33m[\u001b[0m\u001b[1;34m'orig_diff'\u001b[0m\u001b[1;33m]\u001b[0m\u001b[1;33m.\u001b[0m\u001b[0mvalue_counts\u001b[0m\u001b[1;33m(\u001b[0m\u001b[1;33m)\u001b[0m\u001b[1;33m\u001b[0m\u001b[1;33m\u001b[0m\u001b[0m\n\u001b[0;32m      5\u001b[0m \u001b[0mdf\u001b[0m\u001b[1;33m[\u001b[0m\u001b[1;34m'dest_diff'\u001b[0m\u001b[1;33m]\u001b[0m\u001b[1;33m.\u001b[0m\u001b[0mvalue_counts\u001b[0m\u001b[1;33m(\u001b[0m\u001b[1;33m)\u001b[0m\u001b[1;33m\u001b[0m\u001b[1;33m\u001b[0m\u001b[0m\n",
                        "\u001b[1;32m<ipython-input-15-ff299f81c9a8>\u001b[0m in \u001b[0;36mbalance_diff\u001b[1;34m(data)\u001b[0m\n\u001b[0;32m      7\u001b[0m     \u001b[1;32mfor\u001b[0m \u001b[0mi\u001b[0m \u001b[1;32min\u001b[0m \u001b[0morig_change\u001b[0m\u001b[1;33m:\u001b[0m\u001b[1;33m\u001b[0m\u001b[1;33m\u001b[0m\u001b[0m\n\u001b[0;32m      8\u001b[0m         \u001b[1;32mif\u001b[0m \u001b[0mi\u001b[0m\u001b[1;33m<\u001b[0m\u001b[1;36m0\u001b[0m\u001b[1;33m:\u001b[0m\u001b[1;33m\u001b[0m\u001b[1;33m\u001b[0m\u001b[0m\n\u001b[1;32m----> 9\u001b[1;33m             \u001b[0mdata\u001b[0m\u001b[1;33m[\u001b[0m\u001b[1;34m'orig_txn_diff'\u001b[0m\u001b[1;33m]\u001b[0m\u001b[1;33m=\u001b[0m\u001b[0mround\u001b[0m\u001b[1;33m(\u001b[0m\u001b[0mdata\u001b[0m\u001b[1;33m[\u001b[0m\u001b[1;34m'amount'\u001b[0m\u001b[1;33m]\u001b[0m\u001b[1;33m+\u001b[0m\u001b[0morig_change\u001b[0m\u001b[1;33m,\u001b[0m\u001b[1;36m2\u001b[0m\u001b[1;33m)\u001b[0m\u001b[1;33m\u001b[0m\u001b[1;33m\u001b[0m\u001b[0m\n\u001b[0m\u001b[0;32m     10\u001b[0m         \u001b[1;32melse\u001b[0m\u001b[1;33m:\u001b[0m\u001b[1;33m\u001b[0m\u001b[1;33m\u001b[0m\u001b[0m\n\u001b[0;32m     11\u001b[0m             \u001b[0mdata\u001b[0m\u001b[1;33m[\u001b[0m\u001b[1;34m'orig_txn_diff'\u001b[0m\u001b[1;33m]\u001b[0m\u001b[1;33m=\u001b[0m\u001b[0mround\u001b[0m\u001b[1;33m(\u001b[0m\u001b[0mdata\u001b[0m\u001b[1;33m[\u001b[0m\u001b[1;34m'amount'\u001b[0m\u001b[1;33m]\u001b[0m\u001b[1;33m-\u001b[0m\u001b[0morig_change\u001b[0m\u001b[1;33m,\u001b[0m\u001b[1;36m2\u001b[0m\u001b[1;33m)\u001b[0m\u001b[1;33m\u001b[0m\u001b[1;33m\u001b[0m\u001b[0m\n",
                        "\u001b[1;32m~\\anaconda3\\lib\\site-packages\\pandas\\core\\generic.py\u001b[0m in \u001b[0;36m__round__\u001b[1;34m(self, decimals)\u001b[0m\n\u001b[0;32m   1511\u001b[0m \u001b[1;33m\u001b[0m\u001b[0m\n\u001b[0;32m   1512\u001b[0m     \u001b[1;32mdef\u001b[0m \u001b[0m__round__\u001b[0m\u001b[1;33m(\u001b[0m\u001b[0mself\u001b[0m\u001b[1;33m:\u001b[0m \u001b[0mFrameOrSeries\u001b[0m\u001b[1;33m,\u001b[0m \u001b[0mdecimals\u001b[0m\u001b[1;33m:\u001b[0m \u001b[0mint\u001b[0m \u001b[1;33m=\u001b[0m \u001b[1;36m0\u001b[0m\u001b[1;33m)\u001b[0m \u001b[1;33m->\u001b[0m \u001b[0mFrameOrSeries\u001b[0m\u001b[1;33m:\u001b[0m\u001b[1;33m\u001b[0m\u001b[1;33m\u001b[0m\u001b[0m\n\u001b[1;32m-> 1513\u001b[1;33m         \u001b[1;32mreturn\u001b[0m \u001b[0mself\u001b[0m\u001b[1;33m.\u001b[0m\u001b[0mround\u001b[0m\u001b[1;33m(\u001b[0m\u001b[0mdecimals\u001b[0m\u001b[1;33m)\u001b[0m\u001b[1;33m\u001b[0m\u001b[1;33m\u001b[0m\u001b[0m\n\u001b[0m\u001b[0;32m   1514\u001b[0m \u001b[1;33m\u001b[0m\u001b[0m\n\u001b[0;32m   1515\u001b[0m     \u001b[1;31m# -------------------------------------------------------------------------\u001b[0m\u001b[1;33m\u001b[0m\u001b[1;33m\u001b[0m\u001b[1;33m\u001b[0m\u001b[0m\n",
                        "\u001b[1;32m~\\anaconda3\\lib\\site-packages\\pandas\\core\\series.py\u001b[0m in \u001b[0;36mround\u001b[1;34m(self, decimals, *args, **kwargs)\u001b[0m\n\u001b[0;32m   2143\u001b[0m         \"\"\"\n\u001b[0;32m   2144\u001b[0m         \u001b[0mnv\u001b[0m\u001b[1;33m.\u001b[0m\u001b[0mvalidate_round\u001b[0m\u001b[1;33m(\u001b[0m\u001b[0margs\u001b[0m\u001b[1;33m,\u001b[0m \u001b[0mkwargs\u001b[0m\u001b[1;33m)\u001b[0m\u001b[1;33m\u001b[0m\u001b[1;33m\u001b[0m\u001b[0m\n\u001b[1;32m-> 2145\u001b[1;33m         \u001b[0mresult\u001b[0m \u001b[1;33m=\u001b[0m \u001b[0mcom\u001b[0m\u001b[1;33m.\u001b[0m\u001b[0mvalues_from_object\u001b[0m\u001b[1;33m(\u001b[0m\u001b[0mself\u001b[0m\u001b[1;33m)\u001b[0m\u001b[1;33m.\u001b[0m\u001b[0mround\u001b[0m\u001b[1;33m(\u001b[0m\u001b[0mdecimals\u001b[0m\u001b[1;33m)\u001b[0m\u001b[1;33m\u001b[0m\u001b[1;33m\u001b[0m\u001b[0m\n\u001b[0m\u001b[0;32m   2146\u001b[0m         \u001b[0mresult\u001b[0m \u001b[1;33m=\u001b[0m \u001b[0mself\u001b[0m\u001b[1;33m.\u001b[0m\u001b[0m_constructor\u001b[0m\u001b[1;33m(\u001b[0m\u001b[0mresult\u001b[0m\u001b[1;33m,\u001b[0m \u001b[0mindex\u001b[0m\u001b[1;33m=\u001b[0m\u001b[0mself\u001b[0m\u001b[1;33m.\u001b[0m\u001b[0mindex\u001b[0m\u001b[1;33m)\u001b[0m\u001b[1;33m.\u001b[0m\u001b[0m__finalize__\u001b[0m\u001b[1;33m(\u001b[0m\u001b[0mself\u001b[0m\u001b[1;33m)\u001b[0m\u001b[1;33m\u001b[0m\u001b[1;33m\u001b[0m\u001b[0m\n\u001b[0;32m   2147\u001b[0m \u001b[1;33m\u001b[0m\u001b[0m\n",
                        "\u001b[1;31mKeyboardInterrupt\u001b[0m: "
                    ]
                }
            ],
            "metadata": {}
        },
        {
            "cell_type": "code",
            "execution_count": null,
            "source": [
                "#Applying surge_indicator function\r\n",
                "surge_indicator(df)\r\n",
                "df['surge'].value_counts()"
            ],
            "outputs": [],
            "metadata": {}
        },
        {
            "cell_type": "code",
            "execution_count": 20,
            "source": [
                "#Creating a copy\r\n",
                "df_1=df.copy()\r\n",
                "\r\n",
                "#Checking for balance in target\r\n",
                "fig = go.Figure(data=[go.Pie(labels=['Not Fraud','Fraud'], values=df_1['isFraud'].value_counts())])\r\n",
                "fig.show()"
            ],
            "outputs": [
                {
                    "output_type": "display_data",
                    "data": {
                        "text/html": [
                            "<div>                            <div id=\"bf89fc14-b7c0-451d-8059-ea0a9e2047cc\" class=\"plotly-graph-div\" style=\"height:525px; width:100%;\"></div>            <script type=\"text/javascript\">                require([\"plotly\"], function(Plotly) {                    window.PLOTLYENV=window.PLOTLYENV || {};                                    if (document.getElementById(\"bf89fc14-b7c0-451d-8059-ea0a9e2047cc\")) {                    Plotly.newPlot(                        \"bf89fc14-b7c0-451d-8059-ea0a9e2047cc\",                        [{\"labels\":[\"Not Fraud\",\"Fraud\"],\"type\":\"pie\",\"values\":[6354407,8213]}],                        {\"template\":{\"data\":{\"bar\":[{\"error_x\":{\"color\":\"#2a3f5f\"},\"error_y\":{\"color\":\"#2a3f5f\"},\"marker\":{\"line\":{\"color\":\"#E5ECF6\",\"width\":0.5},\"pattern\":{\"fillmode\":\"overlay\",\"size\":10,\"solidity\":0.2}},\"type\":\"bar\"}],\"barpolar\":[{\"marker\":{\"line\":{\"color\":\"#E5ECF6\",\"width\":0.5},\"pattern\":{\"fillmode\":\"overlay\",\"size\":10,\"solidity\":0.2}},\"type\":\"barpolar\"}],\"carpet\":[{\"aaxis\":{\"endlinecolor\":\"#2a3f5f\",\"gridcolor\":\"white\",\"linecolor\":\"white\",\"minorgridcolor\":\"white\",\"startlinecolor\":\"#2a3f5f\"},\"baxis\":{\"endlinecolor\":\"#2a3f5f\",\"gridcolor\":\"white\",\"linecolor\":\"white\",\"minorgridcolor\":\"white\",\"startlinecolor\":\"#2a3f5f\"},\"type\":\"carpet\"}],\"choropleth\":[{\"colorbar\":{\"outlinewidth\":0,\"ticks\":\"\"},\"type\":\"choropleth\"}],\"contour\":[{\"colorbar\":{\"outlinewidth\":0,\"ticks\":\"\"},\"colorscale\":[[0.0,\"#0d0887\"],[0.1111111111111111,\"#46039f\"],[0.2222222222222222,\"#7201a8\"],[0.3333333333333333,\"#9c179e\"],[0.4444444444444444,\"#bd3786\"],[0.5555555555555556,\"#d8576b\"],[0.6666666666666666,\"#ed7953\"],[0.7777777777777778,\"#fb9f3a\"],[0.8888888888888888,\"#fdca26\"],[1.0,\"#f0f921\"]],\"type\":\"contour\"}],\"contourcarpet\":[{\"colorbar\":{\"outlinewidth\":0,\"ticks\":\"\"},\"type\":\"contourcarpet\"}],\"heatmap\":[{\"colorbar\":{\"outlinewidth\":0,\"ticks\":\"\"},\"colorscale\":[[0.0,\"#0d0887\"],[0.1111111111111111,\"#46039f\"],[0.2222222222222222,\"#7201a8\"],[0.3333333333333333,\"#9c179e\"],[0.4444444444444444,\"#bd3786\"],[0.5555555555555556,\"#d8576b\"],[0.6666666666666666,\"#ed7953\"],[0.7777777777777778,\"#fb9f3a\"],[0.8888888888888888,\"#fdca26\"],[1.0,\"#f0f921\"]],\"type\":\"heatmap\"}],\"heatmapgl\":[{\"colorbar\":{\"outlinewidth\":0,\"ticks\":\"\"},\"colorscale\":[[0.0,\"#0d0887\"],[0.1111111111111111,\"#46039f\"],[0.2222222222222222,\"#7201a8\"],[0.3333333333333333,\"#9c179e\"],[0.4444444444444444,\"#bd3786\"],[0.5555555555555556,\"#d8576b\"],[0.6666666666666666,\"#ed7953\"],[0.7777777777777778,\"#fb9f3a\"],[0.8888888888888888,\"#fdca26\"],[1.0,\"#f0f921\"]],\"type\":\"heatmapgl\"}],\"histogram\":[{\"marker\":{\"pattern\":{\"fillmode\":\"overlay\",\"size\":10,\"solidity\":0.2}},\"type\":\"histogram\"}],\"histogram2d\":[{\"colorbar\":{\"outlinewidth\":0,\"ticks\":\"\"},\"colorscale\":[[0.0,\"#0d0887\"],[0.1111111111111111,\"#46039f\"],[0.2222222222222222,\"#7201a8\"],[0.3333333333333333,\"#9c179e\"],[0.4444444444444444,\"#bd3786\"],[0.5555555555555556,\"#d8576b\"],[0.6666666666666666,\"#ed7953\"],[0.7777777777777778,\"#fb9f3a\"],[0.8888888888888888,\"#fdca26\"],[1.0,\"#f0f921\"]],\"type\":\"histogram2d\"}],\"histogram2dcontour\":[{\"colorbar\":{\"outlinewidth\":0,\"ticks\":\"\"},\"colorscale\":[[0.0,\"#0d0887\"],[0.1111111111111111,\"#46039f\"],[0.2222222222222222,\"#7201a8\"],[0.3333333333333333,\"#9c179e\"],[0.4444444444444444,\"#bd3786\"],[0.5555555555555556,\"#d8576b\"],[0.6666666666666666,\"#ed7953\"],[0.7777777777777778,\"#fb9f3a\"],[0.8888888888888888,\"#fdca26\"],[1.0,\"#f0f921\"]],\"type\":\"histogram2dcontour\"}],\"mesh3d\":[{\"colorbar\":{\"outlinewidth\":0,\"ticks\":\"\"},\"type\":\"mesh3d\"}],\"parcoords\":[{\"line\":{\"colorbar\":{\"outlinewidth\":0,\"ticks\":\"\"}},\"type\":\"parcoords\"}],\"pie\":[{\"automargin\":true,\"type\":\"pie\"}],\"scatter\":[{\"marker\":{\"colorbar\":{\"outlinewidth\":0,\"ticks\":\"\"}},\"type\":\"scatter\"}],\"scatter3d\":[{\"line\":{\"colorbar\":{\"outlinewidth\":0,\"ticks\":\"\"}},\"marker\":{\"colorbar\":{\"outlinewidth\":0,\"ticks\":\"\"}},\"type\":\"scatter3d\"}],\"scattercarpet\":[{\"marker\":{\"colorbar\":{\"outlinewidth\":0,\"ticks\":\"\"}},\"type\":\"scattercarpet\"}],\"scattergeo\":[{\"marker\":{\"colorbar\":{\"outlinewidth\":0,\"ticks\":\"\"}},\"type\":\"scattergeo\"}],\"scattergl\":[{\"marker\":{\"colorbar\":{\"outlinewidth\":0,\"ticks\":\"\"}},\"type\":\"scattergl\"}],\"scattermapbox\":[{\"marker\":{\"colorbar\":{\"outlinewidth\":0,\"ticks\":\"\"}},\"type\":\"scattermapbox\"}],\"scatterpolar\":[{\"marker\":{\"colorbar\":{\"outlinewidth\":0,\"ticks\":\"\"}},\"type\":\"scatterpolar\"}],\"scatterpolargl\":[{\"marker\":{\"colorbar\":{\"outlinewidth\":0,\"ticks\":\"\"}},\"type\":\"scatterpolargl\"}],\"scatterternary\":[{\"marker\":{\"colorbar\":{\"outlinewidth\":0,\"ticks\":\"\"}},\"type\":\"scatterternary\"}],\"surface\":[{\"colorbar\":{\"outlinewidth\":0,\"ticks\":\"\"},\"colorscale\":[[0.0,\"#0d0887\"],[0.1111111111111111,\"#46039f\"],[0.2222222222222222,\"#7201a8\"],[0.3333333333333333,\"#9c179e\"],[0.4444444444444444,\"#bd3786\"],[0.5555555555555556,\"#d8576b\"],[0.6666666666666666,\"#ed7953\"],[0.7777777777777778,\"#fb9f3a\"],[0.8888888888888888,\"#fdca26\"],[1.0,\"#f0f921\"]],\"type\":\"surface\"}],\"table\":[{\"cells\":{\"fill\":{\"color\":\"#EBF0F8\"},\"line\":{\"color\":\"white\"}},\"header\":{\"fill\":{\"color\":\"#C8D4E3\"},\"line\":{\"color\":\"white\"}},\"type\":\"table\"}]},\"layout\":{\"annotationdefaults\":{\"arrowcolor\":\"#2a3f5f\",\"arrowhead\":0,\"arrowwidth\":1},\"autotypenumbers\":\"strict\",\"coloraxis\":{\"colorbar\":{\"outlinewidth\":0,\"ticks\":\"\"}},\"colorscale\":{\"diverging\":[[0,\"#8e0152\"],[0.1,\"#c51b7d\"],[0.2,\"#de77ae\"],[0.3,\"#f1b6da\"],[0.4,\"#fde0ef\"],[0.5,\"#f7f7f7\"],[0.6,\"#e6f5d0\"],[0.7,\"#b8e186\"],[0.8,\"#7fbc41\"],[0.9,\"#4d9221\"],[1,\"#276419\"]],\"sequential\":[[0.0,\"#0d0887\"],[0.1111111111111111,\"#46039f\"],[0.2222222222222222,\"#7201a8\"],[0.3333333333333333,\"#9c179e\"],[0.4444444444444444,\"#bd3786\"],[0.5555555555555556,\"#d8576b\"],[0.6666666666666666,\"#ed7953\"],[0.7777777777777778,\"#fb9f3a\"],[0.8888888888888888,\"#fdca26\"],[1.0,\"#f0f921\"]],\"sequentialminus\":[[0.0,\"#0d0887\"],[0.1111111111111111,\"#46039f\"],[0.2222222222222222,\"#7201a8\"],[0.3333333333333333,\"#9c179e\"],[0.4444444444444444,\"#bd3786\"],[0.5555555555555556,\"#d8576b\"],[0.6666666666666666,\"#ed7953\"],[0.7777777777777778,\"#fb9f3a\"],[0.8888888888888888,\"#fdca26\"],[1.0,\"#f0f921\"]]},\"colorway\":[\"#636efa\",\"#EF553B\",\"#00cc96\",\"#ab63fa\",\"#FFA15A\",\"#19d3f3\",\"#FF6692\",\"#B6E880\",\"#FF97FF\",\"#FECB52\"],\"font\":{\"color\":\"#2a3f5f\"},\"geo\":{\"bgcolor\":\"white\",\"lakecolor\":\"white\",\"landcolor\":\"#E5ECF6\",\"showlakes\":true,\"showland\":true,\"subunitcolor\":\"white\"},\"hoverlabel\":{\"align\":\"left\"},\"hovermode\":\"closest\",\"mapbox\":{\"style\":\"light\"},\"paper_bgcolor\":\"white\",\"plot_bgcolor\":\"#E5ECF6\",\"polar\":{\"angularaxis\":{\"gridcolor\":\"white\",\"linecolor\":\"white\",\"ticks\":\"\"},\"bgcolor\":\"#E5ECF6\",\"radialaxis\":{\"gridcolor\":\"white\",\"linecolor\":\"white\",\"ticks\":\"\"}},\"scene\":{\"xaxis\":{\"backgroundcolor\":\"#E5ECF6\",\"gridcolor\":\"white\",\"gridwidth\":2,\"linecolor\":\"white\",\"showbackground\":true,\"ticks\":\"\",\"zerolinecolor\":\"white\"},\"yaxis\":{\"backgroundcolor\":\"#E5ECF6\",\"gridcolor\":\"white\",\"gridwidth\":2,\"linecolor\":\"white\",\"showbackground\":true,\"ticks\":\"\",\"zerolinecolor\":\"white\"},\"zaxis\":{\"backgroundcolor\":\"#E5ECF6\",\"gridcolor\":\"white\",\"gridwidth\":2,\"linecolor\":\"white\",\"showbackground\":true,\"ticks\":\"\",\"zerolinecolor\":\"white\"}},\"shapedefaults\":{\"line\":{\"color\":\"#2a3f5f\"}},\"ternary\":{\"aaxis\":{\"gridcolor\":\"white\",\"linecolor\":\"white\",\"ticks\":\"\"},\"baxis\":{\"gridcolor\":\"white\",\"linecolor\":\"white\",\"ticks\":\"\"},\"bgcolor\":\"#E5ECF6\",\"caxis\":{\"gridcolor\":\"white\",\"linecolor\":\"white\",\"ticks\":\"\"}},\"title\":{\"x\":0.05},\"xaxis\":{\"automargin\":true,\"gridcolor\":\"white\",\"linecolor\":\"white\",\"ticks\":\"\",\"title\":{\"standoff\":15},\"zerolinecolor\":\"white\",\"zerolinewidth\":2},\"yaxis\":{\"automargin\":true,\"gridcolor\":\"white\",\"linecolor\":\"white\",\"ticks\":\"\",\"title\":{\"standoff\":15},\"zerolinecolor\":\"white\",\"zerolinewidth\":2}}}},                        {\"responsive\": true}                    ).then(function(){\n",
                            "                            \n",
                            "var gd = document.getElementById('bf89fc14-b7c0-451d-8059-ea0a9e2047cc');\n",
                            "var x = new MutationObserver(function (mutations, observer) {{\n",
                            "        var display = window.getComputedStyle(gd).display;\n",
                            "        if (!display || display === 'none') {{\n",
                            "            console.log([gd, 'removed!']);\n",
                            "            Plotly.purge(gd);\n",
                            "            observer.disconnect();\n",
                            "        }}\n",
                            "}});\n",
                            "\n",
                            "// Listen for the removal of the full notebook cells\n",
                            "var notebookContainer = gd.closest('#notebook-container');\n",
                            "if (notebookContainer) {{\n",
                            "    x.observe(notebookContainer, {childList: true});\n",
                            "}}\n",
                            "\n",
                            "// Listen for the clearing of the current output cell\n",
                            "var outputEl = gd.closest('.output');\n",
                            "if (outputEl) {{\n",
                            "    x.observe(outputEl, {childList: true});\n",
                            "}}\n",
                            "\n",
                            "                        })                };                });            </script>        </div>"
                        ],
                        "application/vnd.plotly.v1+json": {
                            "config": {
                                "plotlyServerURL": "https://plot.ly"
                            },
                            "data": [
                                {
                                    "labels": [
                                        "Not Fraud",
                                        "Fraud"
                                    ],
                                    "type": "pie",
                                    "values": [
                                        6354407,
                                        8213
                                    ]
                                }
                            ],
                            "layout": {
                                "template": {
                                    "data": {
                                        "bar": [
                                            {
                                                "error_x": {
                                                    "color": "#2a3f5f"
                                                },
                                                "error_y": {
                                                    "color": "#2a3f5f"
                                                },
                                                "marker": {
                                                    "line": {
                                                        "color": "#E5ECF6",
                                                        "width": 0.5
                                                    },
                                                    "pattern": {
                                                        "fillmode": "overlay",
                                                        "size": 10,
                                                        "solidity": 0.2
                                                    }
                                                },
                                                "type": "bar"
                                            }
                                        ],
                                        "barpolar": [
                                            {
                                                "marker": {
                                                    "line": {
                                                        "color": "#E5ECF6",
                                                        "width": 0.5
                                                    },
                                                    "pattern": {
                                                        "fillmode": "overlay",
                                                        "size": 10,
                                                        "solidity": 0.2
                                                    }
                                                },
                                                "type": "barpolar"
                                            }
                                        ],
                                        "carpet": [
                                            {
                                                "aaxis": {
                                                    "endlinecolor": "#2a3f5f",
                                                    "gridcolor": "white",
                                                    "linecolor": "white",
                                                    "minorgridcolor": "white",
                                                    "startlinecolor": "#2a3f5f"
                                                },
                                                "baxis": {
                                                    "endlinecolor": "#2a3f5f",
                                                    "gridcolor": "white",
                                                    "linecolor": "white",
                                                    "minorgridcolor": "white",
                                                    "startlinecolor": "#2a3f5f"
                                                },
                                                "type": "carpet"
                                            }
                                        ],
                                        "choropleth": [
                                            {
                                                "colorbar": {
                                                    "outlinewidth": 0,
                                                    "ticks": ""
                                                },
                                                "type": "choropleth"
                                            }
                                        ],
                                        "contour": [
                                            {
                                                "colorbar": {
                                                    "outlinewidth": 0,
                                                    "ticks": ""
                                                },
                                                "colorscale": [
                                                    [
                                                        0,
                                                        "#0d0887"
                                                    ],
                                                    [
                                                        0.1111111111111111,
                                                        "#46039f"
                                                    ],
                                                    [
                                                        0.2222222222222222,
                                                        "#7201a8"
                                                    ],
                                                    [
                                                        0.3333333333333333,
                                                        "#9c179e"
                                                    ],
                                                    [
                                                        0.4444444444444444,
                                                        "#bd3786"
                                                    ],
                                                    [
                                                        0.5555555555555556,
                                                        "#d8576b"
                                                    ],
                                                    [
                                                        0.6666666666666666,
                                                        "#ed7953"
                                                    ],
                                                    [
                                                        0.7777777777777778,
                                                        "#fb9f3a"
                                                    ],
                                                    [
                                                        0.8888888888888888,
                                                        "#fdca26"
                                                    ],
                                                    [
                                                        1,
                                                        "#f0f921"
                                                    ]
                                                ],
                                                "type": "contour"
                                            }
                                        ],
                                        "contourcarpet": [
                                            {
                                                "colorbar": {
                                                    "outlinewidth": 0,
                                                    "ticks": ""
                                                },
                                                "type": "contourcarpet"
                                            }
                                        ],
                                        "heatmap": [
                                            {
                                                "colorbar": {
                                                    "outlinewidth": 0,
                                                    "ticks": ""
                                                },
                                                "colorscale": [
                                                    [
                                                        0,
                                                        "#0d0887"
                                                    ],
                                                    [
                                                        0.1111111111111111,
                                                        "#46039f"
                                                    ],
                                                    [
                                                        0.2222222222222222,
                                                        "#7201a8"
                                                    ],
                                                    [
                                                        0.3333333333333333,
                                                        "#9c179e"
                                                    ],
                                                    [
                                                        0.4444444444444444,
                                                        "#bd3786"
                                                    ],
                                                    [
                                                        0.5555555555555556,
                                                        "#d8576b"
                                                    ],
                                                    [
                                                        0.6666666666666666,
                                                        "#ed7953"
                                                    ],
                                                    [
                                                        0.7777777777777778,
                                                        "#fb9f3a"
                                                    ],
                                                    [
                                                        0.8888888888888888,
                                                        "#fdca26"
                                                    ],
                                                    [
                                                        1,
                                                        "#f0f921"
                                                    ]
                                                ],
                                                "type": "heatmap"
                                            }
                                        ],
                                        "heatmapgl": [
                                            {
                                                "colorbar": {
                                                    "outlinewidth": 0,
                                                    "ticks": ""
                                                },
                                                "colorscale": [
                                                    [
                                                        0,
                                                        "#0d0887"
                                                    ],
                                                    [
                                                        0.1111111111111111,
                                                        "#46039f"
                                                    ],
                                                    [
                                                        0.2222222222222222,
                                                        "#7201a8"
                                                    ],
                                                    [
                                                        0.3333333333333333,
                                                        "#9c179e"
                                                    ],
                                                    [
                                                        0.4444444444444444,
                                                        "#bd3786"
                                                    ],
                                                    [
                                                        0.5555555555555556,
                                                        "#d8576b"
                                                    ],
                                                    [
                                                        0.6666666666666666,
                                                        "#ed7953"
                                                    ],
                                                    [
                                                        0.7777777777777778,
                                                        "#fb9f3a"
                                                    ],
                                                    [
                                                        0.8888888888888888,
                                                        "#fdca26"
                                                    ],
                                                    [
                                                        1,
                                                        "#f0f921"
                                                    ]
                                                ],
                                                "type": "heatmapgl"
                                            }
                                        ],
                                        "histogram": [
                                            {
                                                "marker": {
                                                    "pattern": {
                                                        "fillmode": "overlay",
                                                        "size": 10,
                                                        "solidity": 0.2
                                                    }
                                                },
                                                "type": "histogram"
                                            }
                                        ],
                                        "histogram2d": [
                                            {
                                                "colorbar": {
                                                    "outlinewidth": 0,
                                                    "ticks": ""
                                                },
                                                "colorscale": [
                                                    [
                                                        0,
                                                        "#0d0887"
                                                    ],
                                                    [
                                                        0.1111111111111111,
                                                        "#46039f"
                                                    ],
                                                    [
                                                        0.2222222222222222,
                                                        "#7201a8"
                                                    ],
                                                    [
                                                        0.3333333333333333,
                                                        "#9c179e"
                                                    ],
                                                    [
                                                        0.4444444444444444,
                                                        "#bd3786"
                                                    ],
                                                    [
                                                        0.5555555555555556,
                                                        "#d8576b"
                                                    ],
                                                    [
                                                        0.6666666666666666,
                                                        "#ed7953"
                                                    ],
                                                    [
                                                        0.7777777777777778,
                                                        "#fb9f3a"
                                                    ],
                                                    [
                                                        0.8888888888888888,
                                                        "#fdca26"
                                                    ],
                                                    [
                                                        1,
                                                        "#f0f921"
                                                    ]
                                                ],
                                                "type": "histogram2d"
                                            }
                                        ],
                                        "histogram2dcontour": [
                                            {
                                                "colorbar": {
                                                    "outlinewidth": 0,
                                                    "ticks": ""
                                                },
                                                "colorscale": [
                                                    [
                                                        0,
                                                        "#0d0887"
                                                    ],
                                                    [
                                                        0.1111111111111111,
                                                        "#46039f"
                                                    ],
                                                    [
                                                        0.2222222222222222,
                                                        "#7201a8"
                                                    ],
                                                    [
                                                        0.3333333333333333,
                                                        "#9c179e"
                                                    ],
                                                    [
                                                        0.4444444444444444,
                                                        "#bd3786"
                                                    ],
                                                    [
                                                        0.5555555555555556,
                                                        "#d8576b"
                                                    ],
                                                    [
                                                        0.6666666666666666,
                                                        "#ed7953"
                                                    ],
                                                    [
                                                        0.7777777777777778,
                                                        "#fb9f3a"
                                                    ],
                                                    [
                                                        0.8888888888888888,
                                                        "#fdca26"
                                                    ],
                                                    [
                                                        1,
                                                        "#f0f921"
                                                    ]
                                                ],
                                                "type": "histogram2dcontour"
                                            }
                                        ],
                                        "mesh3d": [
                                            {
                                                "colorbar": {
                                                    "outlinewidth": 0,
                                                    "ticks": ""
                                                },
                                                "type": "mesh3d"
                                            }
                                        ],
                                        "parcoords": [
                                            {
                                                "line": {
                                                    "colorbar": {
                                                        "outlinewidth": 0,
                                                        "ticks": ""
                                                    }
                                                },
                                                "type": "parcoords"
                                            }
                                        ],
                                        "pie": [
                                            {
                                                "automargin": true,
                                                "type": "pie"
                                            }
                                        ],
                                        "scatter": [
                                            {
                                                "marker": {
                                                    "colorbar": {
                                                        "outlinewidth": 0,
                                                        "ticks": ""
                                                    }
                                                },
                                                "type": "scatter"
                                            }
                                        ],
                                        "scatter3d": [
                                            {
                                                "line": {
                                                    "colorbar": {
                                                        "outlinewidth": 0,
                                                        "ticks": ""
                                                    }
                                                },
                                                "marker": {
                                                    "colorbar": {
                                                        "outlinewidth": 0,
                                                        "ticks": ""
                                                    }
                                                },
                                                "type": "scatter3d"
                                            }
                                        ],
                                        "scattercarpet": [
                                            {
                                                "marker": {
                                                    "colorbar": {
                                                        "outlinewidth": 0,
                                                        "ticks": ""
                                                    }
                                                },
                                                "type": "scattercarpet"
                                            }
                                        ],
                                        "scattergeo": [
                                            {
                                                "marker": {
                                                    "colorbar": {
                                                        "outlinewidth": 0,
                                                        "ticks": ""
                                                    }
                                                },
                                                "type": "scattergeo"
                                            }
                                        ],
                                        "scattergl": [
                                            {
                                                "marker": {
                                                    "colorbar": {
                                                        "outlinewidth": 0,
                                                        "ticks": ""
                                                    }
                                                },
                                                "type": "scattergl"
                                            }
                                        ],
                                        "scattermapbox": [
                                            {
                                                "marker": {
                                                    "colorbar": {
                                                        "outlinewidth": 0,
                                                        "ticks": ""
                                                    }
                                                },
                                                "type": "scattermapbox"
                                            }
                                        ],
                                        "scatterpolar": [
                                            {
                                                "marker": {
                                                    "colorbar": {
                                                        "outlinewidth": 0,
                                                        "ticks": ""
                                                    }
                                                },
                                                "type": "scatterpolar"
                                            }
                                        ],
                                        "scatterpolargl": [
                                            {
                                                "marker": {
                                                    "colorbar": {
                                                        "outlinewidth": 0,
                                                        "ticks": ""
                                                    }
                                                },
                                                "type": "scatterpolargl"
                                            }
                                        ],
                                        "scatterternary": [
                                            {
                                                "marker": {
                                                    "colorbar": {
                                                        "outlinewidth": 0,
                                                        "ticks": ""
                                                    }
                                                },
                                                "type": "scatterternary"
                                            }
                                        ],
                                        "surface": [
                                            {
                                                "colorbar": {
                                                    "outlinewidth": 0,
                                                    "ticks": ""
                                                },
                                                "colorscale": [
                                                    [
                                                        0,
                                                        "#0d0887"
                                                    ],
                                                    [
                                                        0.1111111111111111,
                                                        "#46039f"
                                                    ],
                                                    [
                                                        0.2222222222222222,
                                                        "#7201a8"
                                                    ],
                                                    [
                                                        0.3333333333333333,
                                                        "#9c179e"
                                                    ],
                                                    [
                                                        0.4444444444444444,
                                                        "#bd3786"
                                                    ],
                                                    [
                                                        0.5555555555555556,
                                                        "#d8576b"
                                                    ],
                                                    [
                                                        0.6666666666666666,
                                                        "#ed7953"
                                                    ],
                                                    [
                                                        0.7777777777777778,
                                                        "#fb9f3a"
                                                    ],
                                                    [
                                                        0.8888888888888888,
                                                        "#fdca26"
                                                    ],
                                                    [
                                                        1,
                                                        "#f0f921"
                                                    ]
                                                ],
                                                "type": "surface"
                                            }
                                        ],
                                        "table": [
                                            {
                                                "cells": {
                                                    "fill": {
                                                        "color": "#EBF0F8"
                                                    },
                                                    "line": {
                                                        "color": "white"
                                                    }
                                                },
                                                "header": {
                                                    "fill": {
                                                        "color": "#C8D4E3"
                                                    },
                                                    "line": {
                                                        "color": "white"
                                                    }
                                                },
                                                "type": "table"
                                            }
                                        ]
                                    },
                                    "layout": {
                                        "annotationdefaults": {
                                            "arrowcolor": "#2a3f5f",
                                            "arrowhead": 0,
                                            "arrowwidth": 1
                                        },
                                        "autotypenumbers": "strict",
                                        "coloraxis": {
                                            "colorbar": {
                                                "outlinewidth": 0,
                                                "ticks": ""
                                            }
                                        },
                                        "colorscale": {
                                            "diverging": [
                                                [
                                                    0,
                                                    "#8e0152"
                                                ],
                                                [
                                                    0.1,
                                                    "#c51b7d"
                                                ],
                                                [
                                                    0.2,
                                                    "#de77ae"
                                                ],
                                                [
                                                    0.3,
                                                    "#f1b6da"
                                                ],
                                                [
                                                    0.4,
                                                    "#fde0ef"
                                                ],
                                                [
                                                    0.5,
                                                    "#f7f7f7"
                                                ],
                                                [
                                                    0.6,
                                                    "#e6f5d0"
                                                ],
                                                [
                                                    0.7,
                                                    "#b8e186"
                                                ],
                                                [
                                                    0.8,
                                                    "#7fbc41"
                                                ],
                                                [
                                                    0.9,
                                                    "#4d9221"
                                                ],
                                                [
                                                    1,
                                                    "#276419"
                                                ]
                                            ],
                                            "sequential": [
                                                [
                                                    0,
                                                    "#0d0887"
                                                ],
                                                [
                                                    0.1111111111111111,
                                                    "#46039f"
                                                ],
                                                [
                                                    0.2222222222222222,
                                                    "#7201a8"
                                                ],
                                                [
                                                    0.3333333333333333,
                                                    "#9c179e"
                                                ],
                                                [
                                                    0.4444444444444444,
                                                    "#bd3786"
                                                ],
                                                [
                                                    0.5555555555555556,
                                                    "#d8576b"
                                                ],
                                                [
                                                    0.6666666666666666,
                                                    "#ed7953"
                                                ],
                                                [
                                                    0.7777777777777778,
                                                    "#fb9f3a"
                                                ],
                                                [
                                                    0.8888888888888888,
                                                    "#fdca26"
                                                ],
                                                [
                                                    1,
                                                    "#f0f921"
                                                ]
                                            ],
                                            "sequentialminus": [
                                                [
                                                    0,
                                                    "#0d0887"
                                                ],
                                                [
                                                    0.1111111111111111,
                                                    "#46039f"
                                                ],
                                                [
                                                    0.2222222222222222,
                                                    "#7201a8"
                                                ],
                                                [
                                                    0.3333333333333333,
                                                    "#9c179e"
                                                ],
                                                [
                                                    0.4444444444444444,
                                                    "#bd3786"
                                                ],
                                                [
                                                    0.5555555555555556,
                                                    "#d8576b"
                                                ],
                                                [
                                                    0.6666666666666666,
                                                    "#ed7953"
                                                ],
                                                [
                                                    0.7777777777777778,
                                                    "#fb9f3a"
                                                ],
                                                [
                                                    0.8888888888888888,
                                                    "#fdca26"
                                                ],
                                                [
                                                    1,
                                                    "#f0f921"
                                                ]
                                            ]
                                        },
                                        "colorway": [
                                            "#636efa",
                                            "#EF553B",
                                            "#00cc96",
                                            "#ab63fa",
                                            "#FFA15A",
                                            "#19d3f3",
                                            "#FF6692",
                                            "#B6E880",
                                            "#FF97FF",
                                            "#FECB52"
                                        ],
                                        "font": {
                                            "color": "#2a3f5f"
                                        },
                                        "geo": {
                                            "bgcolor": "white",
                                            "lakecolor": "white",
                                            "landcolor": "#E5ECF6",
                                            "showlakes": true,
                                            "showland": true,
                                            "subunitcolor": "white"
                                        },
                                        "hoverlabel": {
                                            "align": "left"
                                        },
                                        "hovermode": "closest",
                                        "mapbox": {
                                            "style": "light"
                                        },
                                        "paper_bgcolor": "white",
                                        "plot_bgcolor": "#E5ECF6",
                                        "polar": {
                                            "angularaxis": {
                                                "gridcolor": "white",
                                                "linecolor": "white",
                                                "ticks": ""
                                            },
                                            "bgcolor": "#E5ECF6",
                                            "radialaxis": {
                                                "gridcolor": "white",
                                                "linecolor": "white",
                                                "ticks": ""
                                            }
                                        },
                                        "scene": {
                                            "xaxis": {
                                                "backgroundcolor": "#E5ECF6",
                                                "gridcolor": "white",
                                                "gridwidth": 2,
                                                "linecolor": "white",
                                                "showbackground": true,
                                                "ticks": "",
                                                "zerolinecolor": "white"
                                            },
                                            "yaxis": {
                                                "backgroundcolor": "#E5ECF6",
                                                "gridcolor": "white",
                                                "gridwidth": 2,
                                                "linecolor": "white",
                                                "showbackground": true,
                                                "ticks": "",
                                                "zerolinecolor": "white"
                                            },
                                            "zaxis": {
                                                "backgroundcolor": "#E5ECF6",
                                                "gridcolor": "white",
                                                "gridwidth": 2,
                                                "linecolor": "white",
                                                "showbackground": true,
                                                "ticks": "",
                                                "zerolinecolor": "white"
                                            }
                                        },
                                        "shapedefaults": {
                                            "line": {
                                                "color": "#2a3f5f"
                                            }
                                        },
                                        "ternary": {
                                            "aaxis": {
                                                "gridcolor": "white",
                                                "linecolor": "white",
                                                "ticks": ""
                                            },
                                            "baxis": {
                                                "gridcolor": "white",
                                                "linecolor": "white",
                                                "ticks": ""
                                            },
                                            "bgcolor": "#E5ECF6",
                                            "caxis": {
                                                "gridcolor": "white",
                                                "linecolor": "white",
                                                "ticks": ""
                                            }
                                        },
                                        "title": {
                                            "x": 0.05
                                        },
                                        "xaxis": {
                                            "automargin": true,
                                            "gridcolor": "white",
                                            "linecolor": "white",
                                            "ticks": "",
                                            "title": {
                                                "standoff": 15
                                            },
                                            "zerolinecolor": "white",
                                            "zerolinewidth": 2
                                        },
                                        "yaxis": {
                                            "automargin": true,
                                            "gridcolor": "white",
                                            "linecolor": "white",
                                            "ticks": "",
                                            "title": {
                                                "standoff": 15
                                            },
                                            "zerolinecolor": "white",
                                            "zerolinewidth": 2
                                        }
                                    }
                                }
                            }
                        }
                    },
                    "metadata": {}
                }
            ],
            "metadata": {}
        },
        {
            "cell_type": "code",
            "execution_count": 22,
            "source": [
                "#Getting the max size\r\n",
                "max_size = df_1['isFraud'].value_counts().max()\r\n",
                "\r\n",
                "#Balancing the target label\r\n",
                "lst = [df_1]\r\n",
                "for class_index, group in df_1.groupby('isFraud'):\r\n",
                "    lst.append(group.sample(max_size-len(group), replace=True))\r\n",
                "df_1 = pd.concat(lst)"
            ],
            "outputs": [],
            "metadata": {}
        },
        {
            "cell_type": "code",
            "execution_count": 24,
            "source": [
                "#Checking the balanced target\r\n",
                "fig = go.Figure(data=[go.Pie(labels=['Not Fraud','Fraud'], values=df_1['isFraud'].value_counts())])\r\n",
                "fig.show()"
            ],
            "outputs": [
                {
                    "output_type": "display_data",
                    "data": {
                        "text/html": [
                            "<div>                            <div id=\"4f75ef8e-2ad7-44c0-9496-6013e0603174\" class=\"plotly-graph-div\" style=\"height:525px; width:100%;\"></div>            <script type=\"text/javascript\">                require([\"plotly\"], function(Plotly) {                    window.PLOTLYENV=window.PLOTLYENV || {};                                    if (document.getElementById(\"4f75ef8e-2ad7-44c0-9496-6013e0603174\")) {                    Plotly.newPlot(                        \"4f75ef8e-2ad7-44c0-9496-6013e0603174\",                        [{\"labels\":[\"Not Fraud\",\"Fraud\"],\"type\":\"pie\",\"values\":[6354407,6354407]}],                        {\"template\":{\"data\":{\"bar\":[{\"error_x\":{\"color\":\"#2a3f5f\"},\"error_y\":{\"color\":\"#2a3f5f\"},\"marker\":{\"line\":{\"color\":\"#E5ECF6\",\"width\":0.5},\"pattern\":{\"fillmode\":\"overlay\",\"size\":10,\"solidity\":0.2}},\"type\":\"bar\"}],\"barpolar\":[{\"marker\":{\"line\":{\"color\":\"#E5ECF6\",\"width\":0.5},\"pattern\":{\"fillmode\":\"overlay\",\"size\":10,\"solidity\":0.2}},\"type\":\"barpolar\"}],\"carpet\":[{\"aaxis\":{\"endlinecolor\":\"#2a3f5f\",\"gridcolor\":\"white\",\"linecolor\":\"white\",\"minorgridcolor\":\"white\",\"startlinecolor\":\"#2a3f5f\"},\"baxis\":{\"endlinecolor\":\"#2a3f5f\",\"gridcolor\":\"white\",\"linecolor\":\"white\",\"minorgridcolor\":\"white\",\"startlinecolor\":\"#2a3f5f\"},\"type\":\"carpet\"}],\"choropleth\":[{\"colorbar\":{\"outlinewidth\":0,\"ticks\":\"\"},\"type\":\"choropleth\"}],\"contour\":[{\"colorbar\":{\"outlinewidth\":0,\"ticks\":\"\"},\"colorscale\":[[0.0,\"#0d0887\"],[0.1111111111111111,\"#46039f\"],[0.2222222222222222,\"#7201a8\"],[0.3333333333333333,\"#9c179e\"],[0.4444444444444444,\"#bd3786\"],[0.5555555555555556,\"#d8576b\"],[0.6666666666666666,\"#ed7953\"],[0.7777777777777778,\"#fb9f3a\"],[0.8888888888888888,\"#fdca26\"],[1.0,\"#f0f921\"]],\"type\":\"contour\"}],\"contourcarpet\":[{\"colorbar\":{\"outlinewidth\":0,\"ticks\":\"\"},\"type\":\"contourcarpet\"}],\"heatmap\":[{\"colorbar\":{\"outlinewidth\":0,\"ticks\":\"\"},\"colorscale\":[[0.0,\"#0d0887\"],[0.1111111111111111,\"#46039f\"],[0.2222222222222222,\"#7201a8\"],[0.3333333333333333,\"#9c179e\"],[0.4444444444444444,\"#bd3786\"],[0.5555555555555556,\"#d8576b\"],[0.6666666666666666,\"#ed7953\"],[0.7777777777777778,\"#fb9f3a\"],[0.8888888888888888,\"#fdca26\"],[1.0,\"#f0f921\"]],\"type\":\"heatmap\"}],\"heatmapgl\":[{\"colorbar\":{\"outlinewidth\":0,\"ticks\":\"\"},\"colorscale\":[[0.0,\"#0d0887\"],[0.1111111111111111,\"#46039f\"],[0.2222222222222222,\"#7201a8\"],[0.3333333333333333,\"#9c179e\"],[0.4444444444444444,\"#bd3786\"],[0.5555555555555556,\"#d8576b\"],[0.6666666666666666,\"#ed7953\"],[0.7777777777777778,\"#fb9f3a\"],[0.8888888888888888,\"#fdca26\"],[1.0,\"#f0f921\"]],\"type\":\"heatmapgl\"}],\"histogram\":[{\"marker\":{\"pattern\":{\"fillmode\":\"overlay\",\"size\":10,\"solidity\":0.2}},\"type\":\"histogram\"}],\"histogram2d\":[{\"colorbar\":{\"outlinewidth\":0,\"ticks\":\"\"},\"colorscale\":[[0.0,\"#0d0887\"],[0.1111111111111111,\"#46039f\"],[0.2222222222222222,\"#7201a8\"],[0.3333333333333333,\"#9c179e\"],[0.4444444444444444,\"#bd3786\"],[0.5555555555555556,\"#d8576b\"],[0.6666666666666666,\"#ed7953\"],[0.7777777777777778,\"#fb9f3a\"],[0.8888888888888888,\"#fdca26\"],[1.0,\"#f0f921\"]],\"type\":\"histogram2d\"}],\"histogram2dcontour\":[{\"colorbar\":{\"outlinewidth\":0,\"ticks\":\"\"},\"colorscale\":[[0.0,\"#0d0887\"],[0.1111111111111111,\"#46039f\"],[0.2222222222222222,\"#7201a8\"],[0.3333333333333333,\"#9c179e\"],[0.4444444444444444,\"#bd3786\"],[0.5555555555555556,\"#d8576b\"],[0.6666666666666666,\"#ed7953\"],[0.7777777777777778,\"#fb9f3a\"],[0.8888888888888888,\"#fdca26\"],[1.0,\"#f0f921\"]],\"type\":\"histogram2dcontour\"}],\"mesh3d\":[{\"colorbar\":{\"outlinewidth\":0,\"ticks\":\"\"},\"type\":\"mesh3d\"}],\"parcoords\":[{\"line\":{\"colorbar\":{\"outlinewidth\":0,\"ticks\":\"\"}},\"type\":\"parcoords\"}],\"pie\":[{\"automargin\":true,\"type\":\"pie\"}],\"scatter\":[{\"marker\":{\"colorbar\":{\"outlinewidth\":0,\"ticks\":\"\"}},\"type\":\"scatter\"}],\"scatter3d\":[{\"line\":{\"colorbar\":{\"outlinewidth\":0,\"ticks\":\"\"}},\"marker\":{\"colorbar\":{\"outlinewidth\":0,\"ticks\":\"\"}},\"type\":\"scatter3d\"}],\"scattercarpet\":[{\"marker\":{\"colorbar\":{\"outlinewidth\":0,\"ticks\":\"\"}},\"type\":\"scattercarpet\"}],\"scattergeo\":[{\"marker\":{\"colorbar\":{\"outlinewidth\":0,\"ticks\":\"\"}},\"type\":\"scattergeo\"}],\"scattergl\":[{\"marker\":{\"colorbar\":{\"outlinewidth\":0,\"ticks\":\"\"}},\"type\":\"scattergl\"}],\"scattermapbox\":[{\"marker\":{\"colorbar\":{\"outlinewidth\":0,\"ticks\":\"\"}},\"type\":\"scattermapbox\"}],\"scatterpolar\":[{\"marker\":{\"colorbar\":{\"outlinewidth\":0,\"ticks\":\"\"}},\"type\":\"scatterpolar\"}],\"scatterpolargl\":[{\"marker\":{\"colorbar\":{\"outlinewidth\":0,\"ticks\":\"\"}},\"type\":\"scatterpolargl\"}],\"scatterternary\":[{\"marker\":{\"colorbar\":{\"outlinewidth\":0,\"ticks\":\"\"}},\"type\":\"scatterternary\"}],\"surface\":[{\"colorbar\":{\"outlinewidth\":0,\"ticks\":\"\"},\"colorscale\":[[0.0,\"#0d0887\"],[0.1111111111111111,\"#46039f\"],[0.2222222222222222,\"#7201a8\"],[0.3333333333333333,\"#9c179e\"],[0.4444444444444444,\"#bd3786\"],[0.5555555555555556,\"#d8576b\"],[0.6666666666666666,\"#ed7953\"],[0.7777777777777778,\"#fb9f3a\"],[0.8888888888888888,\"#fdca26\"],[1.0,\"#f0f921\"]],\"type\":\"surface\"}],\"table\":[{\"cells\":{\"fill\":{\"color\":\"#EBF0F8\"},\"line\":{\"color\":\"white\"}},\"header\":{\"fill\":{\"color\":\"#C8D4E3\"},\"line\":{\"color\":\"white\"}},\"type\":\"table\"}]},\"layout\":{\"annotationdefaults\":{\"arrowcolor\":\"#2a3f5f\",\"arrowhead\":0,\"arrowwidth\":1},\"autotypenumbers\":\"strict\",\"coloraxis\":{\"colorbar\":{\"outlinewidth\":0,\"ticks\":\"\"}},\"colorscale\":{\"diverging\":[[0,\"#8e0152\"],[0.1,\"#c51b7d\"],[0.2,\"#de77ae\"],[0.3,\"#f1b6da\"],[0.4,\"#fde0ef\"],[0.5,\"#f7f7f7\"],[0.6,\"#e6f5d0\"],[0.7,\"#b8e186\"],[0.8,\"#7fbc41\"],[0.9,\"#4d9221\"],[1,\"#276419\"]],\"sequential\":[[0.0,\"#0d0887\"],[0.1111111111111111,\"#46039f\"],[0.2222222222222222,\"#7201a8\"],[0.3333333333333333,\"#9c179e\"],[0.4444444444444444,\"#bd3786\"],[0.5555555555555556,\"#d8576b\"],[0.6666666666666666,\"#ed7953\"],[0.7777777777777778,\"#fb9f3a\"],[0.8888888888888888,\"#fdca26\"],[1.0,\"#f0f921\"]],\"sequentialminus\":[[0.0,\"#0d0887\"],[0.1111111111111111,\"#46039f\"],[0.2222222222222222,\"#7201a8\"],[0.3333333333333333,\"#9c179e\"],[0.4444444444444444,\"#bd3786\"],[0.5555555555555556,\"#d8576b\"],[0.6666666666666666,\"#ed7953\"],[0.7777777777777778,\"#fb9f3a\"],[0.8888888888888888,\"#fdca26\"],[1.0,\"#f0f921\"]]},\"colorway\":[\"#636efa\",\"#EF553B\",\"#00cc96\",\"#ab63fa\",\"#FFA15A\",\"#19d3f3\",\"#FF6692\",\"#B6E880\",\"#FF97FF\",\"#FECB52\"],\"font\":{\"color\":\"#2a3f5f\"},\"geo\":{\"bgcolor\":\"white\",\"lakecolor\":\"white\",\"landcolor\":\"#E5ECF6\",\"showlakes\":true,\"showland\":true,\"subunitcolor\":\"white\"},\"hoverlabel\":{\"align\":\"left\"},\"hovermode\":\"closest\",\"mapbox\":{\"style\":\"light\"},\"paper_bgcolor\":\"white\",\"plot_bgcolor\":\"#E5ECF6\",\"polar\":{\"angularaxis\":{\"gridcolor\":\"white\",\"linecolor\":\"white\",\"ticks\":\"\"},\"bgcolor\":\"#E5ECF6\",\"radialaxis\":{\"gridcolor\":\"white\",\"linecolor\":\"white\",\"ticks\":\"\"}},\"scene\":{\"xaxis\":{\"backgroundcolor\":\"#E5ECF6\",\"gridcolor\":\"white\",\"gridwidth\":2,\"linecolor\":\"white\",\"showbackground\":true,\"ticks\":\"\",\"zerolinecolor\":\"white\"},\"yaxis\":{\"backgroundcolor\":\"#E5ECF6\",\"gridcolor\":\"white\",\"gridwidth\":2,\"linecolor\":\"white\",\"showbackground\":true,\"ticks\":\"\",\"zerolinecolor\":\"white\"},\"zaxis\":{\"backgroundcolor\":\"#E5ECF6\",\"gridcolor\":\"white\",\"gridwidth\":2,\"linecolor\":\"white\",\"showbackground\":true,\"ticks\":\"\",\"zerolinecolor\":\"white\"}},\"shapedefaults\":{\"line\":{\"color\":\"#2a3f5f\"}},\"ternary\":{\"aaxis\":{\"gridcolor\":\"white\",\"linecolor\":\"white\",\"ticks\":\"\"},\"baxis\":{\"gridcolor\":\"white\",\"linecolor\":\"white\",\"ticks\":\"\"},\"bgcolor\":\"#E5ECF6\",\"caxis\":{\"gridcolor\":\"white\",\"linecolor\":\"white\",\"ticks\":\"\"}},\"title\":{\"x\":0.05},\"xaxis\":{\"automargin\":true,\"gridcolor\":\"white\",\"linecolor\":\"white\",\"ticks\":\"\",\"title\":{\"standoff\":15},\"zerolinecolor\":\"white\",\"zerolinewidth\":2},\"yaxis\":{\"automargin\":true,\"gridcolor\":\"white\",\"linecolor\":\"white\",\"ticks\":\"\",\"title\":{\"standoff\":15},\"zerolinecolor\":\"white\",\"zerolinewidth\":2}}}},                        {\"responsive\": true}                    ).then(function(){\n",
                            "                            \n",
                            "var gd = document.getElementById('4f75ef8e-2ad7-44c0-9496-6013e0603174');\n",
                            "var x = new MutationObserver(function (mutations, observer) {{\n",
                            "        var display = window.getComputedStyle(gd).display;\n",
                            "        if (!display || display === 'none') {{\n",
                            "            console.log([gd, 'removed!']);\n",
                            "            Plotly.purge(gd);\n",
                            "            observer.disconnect();\n",
                            "        }}\n",
                            "}});\n",
                            "\n",
                            "// Listen for the removal of the full notebook cells\n",
                            "var notebookContainer = gd.closest('#notebook-container');\n",
                            "if (notebookContainer) {{\n",
                            "    x.observe(notebookContainer, {childList: true});\n",
                            "}}\n",
                            "\n",
                            "// Listen for the clearing of the current output cell\n",
                            "var outputEl = gd.closest('.output');\n",
                            "if (outputEl) {{\n",
                            "    x.observe(outputEl, {childList: true});\n",
                            "}}\n",
                            "\n",
                            "                        })                };                });            </script>        </div>"
                        ],
                        "application/vnd.plotly.v1+json": {
                            "config": {
                                "plotlyServerURL": "https://plot.ly"
                            },
                            "data": [
                                {
                                    "labels": [
                                        "Not Fraud",
                                        "Fraud"
                                    ],
                                    "type": "pie",
                                    "values": [
                                        6354407,
                                        6354407
                                    ]
                                }
                            ],
                            "layout": {
                                "template": {
                                    "data": {
                                        "bar": [
                                            {
                                                "error_x": {
                                                    "color": "#2a3f5f"
                                                },
                                                "error_y": {
                                                    "color": "#2a3f5f"
                                                },
                                                "marker": {
                                                    "line": {
                                                        "color": "#E5ECF6",
                                                        "width": 0.5
                                                    },
                                                    "pattern": {
                                                        "fillmode": "overlay",
                                                        "size": 10,
                                                        "solidity": 0.2
                                                    }
                                                },
                                                "type": "bar"
                                            }
                                        ],
                                        "barpolar": [
                                            {
                                                "marker": {
                                                    "line": {
                                                        "color": "#E5ECF6",
                                                        "width": 0.5
                                                    },
                                                    "pattern": {
                                                        "fillmode": "overlay",
                                                        "size": 10,
                                                        "solidity": 0.2
                                                    }
                                                },
                                                "type": "barpolar"
                                            }
                                        ],
                                        "carpet": [
                                            {
                                                "aaxis": {
                                                    "endlinecolor": "#2a3f5f",
                                                    "gridcolor": "white",
                                                    "linecolor": "white",
                                                    "minorgridcolor": "white",
                                                    "startlinecolor": "#2a3f5f"
                                                },
                                                "baxis": {
                                                    "endlinecolor": "#2a3f5f",
                                                    "gridcolor": "white",
                                                    "linecolor": "white",
                                                    "minorgridcolor": "white",
                                                    "startlinecolor": "#2a3f5f"
                                                },
                                                "type": "carpet"
                                            }
                                        ],
                                        "choropleth": [
                                            {
                                                "colorbar": {
                                                    "outlinewidth": 0,
                                                    "ticks": ""
                                                },
                                                "type": "choropleth"
                                            }
                                        ],
                                        "contour": [
                                            {
                                                "colorbar": {
                                                    "outlinewidth": 0,
                                                    "ticks": ""
                                                },
                                                "colorscale": [
                                                    [
                                                        0,
                                                        "#0d0887"
                                                    ],
                                                    [
                                                        0.1111111111111111,
                                                        "#46039f"
                                                    ],
                                                    [
                                                        0.2222222222222222,
                                                        "#7201a8"
                                                    ],
                                                    [
                                                        0.3333333333333333,
                                                        "#9c179e"
                                                    ],
                                                    [
                                                        0.4444444444444444,
                                                        "#bd3786"
                                                    ],
                                                    [
                                                        0.5555555555555556,
                                                        "#d8576b"
                                                    ],
                                                    [
                                                        0.6666666666666666,
                                                        "#ed7953"
                                                    ],
                                                    [
                                                        0.7777777777777778,
                                                        "#fb9f3a"
                                                    ],
                                                    [
                                                        0.8888888888888888,
                                                        "#fdca26"
                                                    ],
                                                    [
                                                        1,
                                                        "#f0f921"
                                                    ]
                                                ],
                                                "type": "contour"
                                            }
                                        ],
                                        "contourcarpet": [
                                            {
                                                "colorbar": {
                                                    "outlinewidth": 0,
                                                    "ticks": ""
                                                },
                                                "type": "contourcarpet"
                                            }
                                        ],
                                        "heatmap": [
                                            {
                                                "colorbar": {
                                                    "outlinewidth": 0,
                                                    "ticks": ""
                                                },
                                                "colorscale": [
                                                    [
                                                        0,
                                                        "#0d0887"
                                                    ],
                                                    [
                                                        0.1111111111111111,
                                                        "#46039f"
                                                    ],
                                                    [
                                                        0.2222222222222222,
                                                        "#7201a8"
                                                    ],
                                                    [
                                                        0.3333333333333333,
                                                        "#9c179e"
                                                    ],
                                                    [
                                                        0.4444444444444444,
                                                        "#bd3786"
                                                    ],
                                                    [
                                                        0.5555555555555556,
                                                        "#d8576b"
                                                    ],
                                                    [
                                                        0.6666666666666666,
                                                        "#ed7953"
                                                    ],
                                                    [
                                                        0.7777777777777778,
                                                        "#fb9f3a"
                                                    ],
                                                    [
                                                        0.8888888888888888,
                                                        "#fdca26"
                                                    ],
                                                    [
                                                        1,
                                                        "#f0f921"
                                                    ]
                                                ],
                                                "type": "heatmap"
                                            }
                                        ],
                                        "heatmapgl": [
                                            {
                                                "colorbar": {
                                                    "outlinewidth": 0,
                                                    "ticks": ""
                                                },
                                                "colorscale": [
                                                    [
                                                        0,
                                                        "#0d0887"
                                                    ],
                                                    [
                                                        0.1111111111111111,
                                                        "#46039f"
                                                    ],
                                                    [
                                                        0.2222222222222222,
                                                        "#7201a8"
                                                    ],
                                                    [
                                                        0.3333333333333333,
                                                        "#9c179e"
                                                    ],
                                                    [
                                                        0.4444444444444444,
                                                        "#bd3786"
                                                    ],
                                                    [
                                                        0.5555555555555556,
                                                        "#d8576b"
                                                    ],
                                                    [
                                                        0.6666666666666666,
                                                        "#ed7953"
                                                    ],
                                                    [
                                                        0.7777777777777778,
                                                        "#fb9f3a"
                                                    ],
                                                    [
                                                        0.8888888888888888,
                                                        "#fdca26"
                                                    ],
                                                    [
                                                        1,
                                                        "#f0f921"
                                                    ]
                                                ],
                                                "type": "heatmapgl"
                                            }
                                        ],
                                        "histogram": [
                                            {
                                                "marker": {
                                                    "pattern": {
                                                        "fillmode": "overlay",
                                                        "size": 10,
                                                        "solidity": 0.2
                                                    }
                                                },
                                                "type": "histogram"
                                            }
                                        ],
                                        "histogram2d": [
                                            {
                                                "colorbar": {
                                                    "outlinewidth": 0,
                                                    "ticks": ""
                                                },
                                                "colorscale": [
                                                    [
                                                        0,
                                                        "#0d0887"
                                                    ],
                                                    [
                                                        0.1111111111111111,
                                                        "#46039f"
                                                    ],
                                                    [
                                                        0.2222222222222222,
                                                        "#7201a8"
                                                    ],
                                                    [
                                                        0.3333333333333333,
                                                        "#9c179e"
                                                    ],
                                                    [
                                                        0.4444444444444444,
                                                        "#bd3786"
                                                    ],
                                                    [
                                                        0.5555555555555556,
                                                        "#d8576b"
                                                    ],
                                                    [
                                                        0.6666666666666666,
                                                        "#ed7953"
                                                    ],
                                                    [
                                                        0.7777777777777778,
                                                        "#fb9f3a"
                                                    ],
                                                    [
                                                        0.8888888888888888,
                                                        "#fdca26"
                                                    ],
                                                    [
                                                        1,
                                                        "#f0f921"
                                                    ]
                                                ],
                                                "type": "histogram2d"
                                            }
                                        ],
                                        "histogram2dcontour": [
                                            {
                                                "colorbar": {
                                                    "outlinewidth": 0,
                                                    "ticks": ""
                                                },
                                                "colorscale": [
                                                    [
                                                        0,
                                                        "#0d0887"
                                                    ],
                                                    [
                                                        0.1111111111111111,
                                                        "#46039f"
                                                    ],
                                                    [
                                                        0.2222222222222222,
                                                        "#7201a8"
                                                    ],
                                                    [
                                                        0.3333333333333333,
                                                        "#9c179e"
                                                    ],
                                                    [
                                                        0.4444444444444444,
                                                        "#bd3786"
                                                    ],
                                                    [
                                                        0.5555555555555556,
                                                        "#d8576b"
                                                    ],
                                                    [
                                                        0.6666666666666666,
                                                        "#ed7953"
                                                    ],
                                                    [
                                                        0.7777777777777778,
                                                        "#fb9f3a"
                                                    ],
                                                    [
                                                        0.8888888888888888,
                                                        "#fdca26"
                                                    ],
                                                    [
                                                        1,
                                                        "#f0f921"
                                                    ]
                                                ],
                                                "type": "histogram2dcontour"
                                            }
                                        ],
                                        "mesh3d": [
                                            {
                                                "colorbar": {
                                                    "outlinewidth": 0,
                                                    "ticks": ""
                                                },
                                                "type": "mesh3d"
                                            }
                                        ],
                                        "parcoords": [
                                            {
                                                "line": {
                                                    "colorbar": {
                                                        "outlinewidth": 0,
                                                        "ticks": ""
                                                    }
                                                },
                                                "type": "parcoords"
                                            }
                                        ],
                                        "pie": [
                                            {
                                                "automargin": true,
                                                "type": "pie"
                                            }
                                        ],
                                        "scatter": [
                                            {
                                                "marker": {
                                                    "colorbar": {
                                                        "outlinewidth": 0,
                                                        "ticks": ""
                                                    }
                                                },
                                                "type": "scatter"
                                            }
                                        ],
                                        "scatter3d": [
                                            {
                                                "line": {
                                                    "colorbar": {
                                                        "outlinewidth": 0,
                                                        "ticks": ""
                                                    }
                                                },
                                                "marker": {
                                                    "colorbar": {
                                                        "outlinewidth": 0,
                                                        "ticks": ""
                                                    }
                                                },
                                                "type": "scatter3d"
                                            }
                                        ],
                                        "scattercarpet": [
                                            {
                                                "marker": {
                                                    "colorbar": {
                                                        "outlinewidth": 0,
                                                        "ticks": ""
                                                    }
                                                },
                                                "type": "scattercarpet"
                                            }
                                        ],
                                        "scattergeo": [
                                            {
                                                "marker": {
                                                    "colorbar": {
                                                        "outlinewidth": 0,
                                                        "ticks": ""
                                                    }
                                                },
                                                "type": "scattergeo"
                                            }
                                        ],
                                        "scattergl": [
                                            {
                                                "marker": {
                                                    "colorbar": {
                                                        "outlinewidth": 0,
                                                        "ticks": ""
                                                    }
                                                },
                                                "type": "scattergl"
                                            }
                                        ],
                                        "scattermapbox": [
                                            {
                                                "marker": {
                                                    "colorbar": {
                                                        "outlinewidth": 0,
                                                        "ticks": ""
                                                    }
                                                },
                                                "type": "scattermapbox"
                                            }
                                        ],
                                        "scatterpolar": [
                                            {
                                                "marker": {
                                                    "colorbar": {
                                                        "outlinewidth": 0,
                                                        "ticks": ""
                                                    }
                                                },
                                                "type": "scatterpolar"
                                            }
                                        ],
                                        "scatterpolargl": [
                                            {
                                                "marker": {
                                                    "colorbar": {
                                                        "outlinewidth": 0,
                                                        "ticks": ""
                                                    }
                                                },
                                                "type": "scatterpolargl"
                                            }
                                        ],
                                        "scatterternary": [
                                            {
                                                "marker": {
                                                    "colorbar": {
                                                        "outlinewidth": 0,
                                                        "ticks": ""
                                                    }
                                                },
                                                "type": "scatterternary"
                                            }
                                        ],
                                        "surface": [
                                            {
                                                "colorbar": {
                                                    "outlinewidth": 0,
                                                    "ticks": ""
                                                },
                                                "colorscale": [
                                                    [
                                                        0,
                                                        "#0d0887"
                                                    ],
                                                    [
                                                        0.1111111111111111,
                                                        "#46039f"
                                                    ],
                                                    [
                                                        0.2222222222222222,
                                                        "#7201a8"
                                                    ],
                                                    [
                                                        0.3333333333333333,
                                                        "#9c179e"
                                                    ],
                                                    [
                                                        0.4444444444444444,
                                                        "#bd3786"
                                                    ],
                                                    [
                                                        0.5555555555555556,
                                                        "#d8576b"
                                                    ],
                                                    [
                                                        0.6666666666666666,
                                                        "#ed7953"
                                                    ],
                                                    [
                                                        0.7777777777777778,
                                                        "#fb9f3a"
                                                    ],
                                                    [
                                                        0.8888888888888888,
                                                        "#fdca26"
                                                    ],
                                                    [
                                                        1,
                                                        "#f0f921"
                                                    ]
                                                ],
                                                "type": "surface"
                                            }
                                        ],
                                        "table": [
                                            {
                                                "cells": {
                                                    "fill": {
                                                        "color": "#EBF0F8"
                                                    },
                                                    "line": {
                                                        "color": "white"
                                                    }
                                                },
                                                "header": {
                                                    "fill": {
                                                        "color": "#C8D4E3"
                                                    },
                                                    "line": {
                                                        "color": "white"
                                                    }
                                                },
                                                "type": "table"
                                            }
                                        ]
                                    },
                                    "layout": {
                                        "annotationdefaults": {
                                            "arrowcolor": "#2a3f5f",
                                            "arrowhead": 0,
                                            "arrowwidth": 1
                                        },
                                        "autotypenumbers": "strict",
                                        "coloraxis": {
                                            "colorbar": {
                                                "outlinewidth": 0,
                                                "ticks": ""
                                            }
                                        },
                                        "colorscale": {
                                            "diverging": [
                                                [
                                                    0,
                                                    "#8e0152"
                                                ],
                                                [
                                                    0.1,
                                                    "#c51b7d"
                                                ],
                                                [
                                                    0.2,
                                                    "#de77ae"
                                                ],
                                                [
                                                    0.3,
                                                    "#f1b6da"
                                                ],
                                                [
                                                    0.4,
                                                    "#fde0ef"
                                                ],
                                                [
                                                    0.5,
                                                    "#f7f7f7"
                                                ],
                                                [
                                                    0.6,
                                                    "#e6f5d0"
                                                ],
                                                [
                                                    0.7,
                                                    "#b8e186"
                                                ],
                                                [
                                                    0.8,
                                                    "#7fbc41"
                                                ],
                                                [
                                                    0.9,
                                                    "#4d9221"
                                                ],
                                                [
                                                    1,
                                                    "#276419"
                                                ]
                                            ],
                                            "sequential": [
                                                [
                                                    0,
                                                    "#0d0887"
                                                ],
                                                [
                                                    0.1111111111111111,
                                                    "#46039f"
                                                ],
                                                [
                                                    0.2222222222222222,
                                                    "#7201a8"
                                                ],
                                                [
                                                    0.3333333333333333,
                                                    "#9c179e"
                                                ],
                                                [
                                                    0.4444444444444444,
                                                    "#bd3786"
                                                ],
                                                [
                                                    0.5555555555555556,
                                                    "#d8576b"
                                                ],
                                                [
                                                    0.6666666666666666,
                                                    "#ed7953"
                                                ],
                                                [
                                                    0.7777777777777778,
                                                    "#fb9f3a"
                                                ],
                                                [
                                                    0.8888888888888888,
                                                    "#fdca26"
                                                ],
                                                [
                                                    1,
                                                    "#f0f921"
                                                ]
                                            ],
                                            "sequentialminus": [
                                                [
                                                    0,
                                                    "#0d0887"
                                                ],
                                                [
                                                    0.1111111111111111,
                                                    "#46039f"
                                                ],
                                                [
                                                    0.2222222222222222,
                                                    "#7201a8"
                                                ],
                                                [
                                                    0.3333333333333333,
                                                    "#9c179e"
                                                ],
                                                [
                                                    0.4444444444444444,
                                                    "#bd3786"
                                                ],
                                                [
                                                    0.5555555555555556,
                                                    "#d8576b"
                                                ],
                                                [
                                                    0.6666666666666666,
                                                    "#ed7953"
                                                ],
                                                [
                                                    0.7777777777777778,
                                                    "#fb9f3a"
                                                ],
                                                [
                                                    0.8888888888888888,
                                                    "#fdca26"
                                                ],
                                                [
                                                    1,
                                                    "#f0f921"
                                                ]
                                            ]
                                        },
                                        "colorway": [
                                            "#636efa",
                                            "#EF553B",
                                            "#00cc96",
                                            "#ab63fa",
                                            "#FFA15A",
                                            "#19d3f3",
                                            "#FF6692",
                                            "#B6E880",
                                            "#FF97FF",
                                            "#FECB52"
                                        ],
                                        "font": {
                                            "color": "#2a3f5f"
                                        },
                                        "geo": {
                                            "bgcolor": "white",
                                            "lakecolor": "white",
                                            "landcolor": "#E5ECF6",
                                            "showlakes": true,
                                            "showland": true,
                                            "subunitcolor": "white"
                                        },
                                        "hoverlabel": {
                                            "align": "left"
                                        },
                                        "hovermode": "closest",
                                        "mapbox": {
                                            "style": "light"
                                        },
                                        "paper_bgcolor": "white",
                                        "plot_bgcolor": "#E5ECF6",
                                        "polar": {
                                            "angularaxis": {
                                                "gridcolor": "white",
                                                "linecolor": "white",
                                                "ticks": ""
                                            },
                                            "bgcolor": "#E5ECF6",
                                            "radialaxis": {
                                                "gridcolor": "white",
                                                "linecolor": "white",
                                                "ticks": ""
                                            }
                                        },
                                        "scene": {
                                            "xaxis": {
                                                "backgroundcolor": "#E5ECF6",
                                                "gridcolor": "white",
                                                "gridwidth": 2,
                                                "linecolor": "white",
                                                "showbackground": true,
                                                "ticks": "",
                                                "zerolinecolor": "white"
                                            },
                                            "yaxis": {
                                                "backgroundcolor": "#E5ECF6",
                                                "gridcolor": "white",
                                                "gridwidth": 2,
                                                "linecolor": "white",
                                                "showbackground": true,
                                                "ticks": "",
                                                "zerolinecolor": "white"
                                            },
                                            "zaxis": {
                                                "backgroundcolor": "#E5ECF6",
                                                "gridcolor": "white",
                                                "gridwidth": 2,
                                                "linecolor": "white",
                                                "showbackground": true,
                                                "ticks": "",
                                                "zerolinecolor": "white"
                                            }
                                        },
                                        "shapedefaults": {
                                            "line": {
                                                "color": "#2a3f5f"
                                            }
                                        },
                                        "ternary": {
                                            "aaxis": {
                                                "gridcolor": "white",
                                                "linecolor": "white",
                                                "ticks": ""
                                            },
                                            "baxis": {
                                                "gridcolor": "white",
                                                "linecolor": "white",
                                                "ticks": ""
                                            },
                                            "bgcolor": "#E5ECF6",
                                            "caxis": {
                                                "gridcolor": "white",
                                                "linecolor": "white",
                                                "ticks": ""
                                            }
                                        },
                                        "title": {
                                            "x": 0.05
                                        },
                                        "xaxis": {
                                            "automargin": true,
                                            "gridcolor": "white",
                                            "linecolor": "white",
                                            "ticks": "",
                                            "title": {
                                                "standoff": 15
                                            },
                                            "zerolinecolor": "white",
                                            "zerolinewidth": 2
                                        },
                                        "yaxis": {
                                            "automargin": true,
                                            "gridcolor": "white",
                                            "linecolor": "white",
                                            "ticks": "",
                                            "title": {
                                                "standoff": 15
                                            },
                                            "zerolinecolor": "white",
                                            "zerolinewidth": 2
                                        }
                                    }
                                }
                            }
                        }
                    },
                    "metadata": {}
                }
            ],
            "metadata": {}
        },
        {
            "cell_type": "code",
            "execution_count": 26,
            "source": [
                "df_1=pd.concat([df_1,pd.get_dummies(df_1['type'], prefix='type_')],axis=1)\r\n",
                "df_1.drop(['type'],axis=1,inplace = True)\r\n",
                "\r\n",
                "df_1.head()"
            ],
            "outputs": [
                {
                    "output_type": "execute_result",
                    "data": {
                        "text/plain": [
                            "   step    amount     nameOrig  oldbalanceOrg  newbalanceOrig     nameDest  \\\n",
                            "0     1   9839.64  C1231006815       170136.0       160296.36  M1979787155   \n",
                            "1     1   1864.28  C1666544295        21249.0        19384.72  M2044282225   \n",
                            "2     1    181.00  C1305486145          181.0            0.00   C553264065   \n",
                            "3     1    181.00   C840083671          181.0            0.00    C38997010   \n",
                            "4     1  11668.14  C2048537720        41554.0        29885.86  M1230701703   \n",
                            "\n",
                            "   oldbalanceDest  newbalanceDest  isFraud  isFlaggedFraud  orig_txn_diff  \\\n",
                            "0             0.0             0.0        0               0           0.64   \n",
                            "1             0.0             0.0        0               0           0.28   \n",
                            "2             0.0             0.0        1               0           0.00   \n",
                            "3         21182.0             0.0        1               0           0.00   \n",
                            "4             0.0             0.0        0               0           0.14   \n",
                            "\n",
                            "   type__CASH_IN  type__CASH_OUT  type__DEBIT  type__PAYMENT  type__TRANSFER  \n",
                            "0              0               0            0              1               0  \n",
                            "1              0               0            0              1               0  \n",
                            "2              0               0            0              0               1  \n",
                            "3              0               1            0              0               0  \n",
                            "4              0               0            0              1               0  "
                        ],
                        "text/html": [
                            "<div>\n",
                            "<style scoped>\n",
                            "    .dataframe tbody tr th:only-of-type {\n",
                            "        vertical-align: middle;\n",
                            "    }\n",
                            "\n",
                            "    .dataframe tbody tr th {\n",
                            "        vertical-align: top;\n",
                            "    }\n",
                            "\n",
                            "    .dataframe thead th {\n",
                            "        text-align: right;\n",
                            "    }\n",
                            "</style>\n",
                            "<table border=\"1\" class=\"dataframe\">\n",
                            "  <thead>\n",
                            "    <tr style=\"text-align: right;\">\n",
                            "      <th></th>\n",
                            "      <th>step</th>\n",
                            "      <th>amount</th>\n",
                            "      <th>nameOrig</th>\n",
                            "      <th>oldbalanceOrg</th>\n",
                            "      <th>newbalanceOrig</th>\n",
                            "      <th>nameDest</th>\n",
                            "      <th>oldbalanceDest</th>\n",
                            "      <th>newbalanceDest</th>\n",
                            "      <th>isFraud</th>\n",
                            "      <th>isFlaggedFraud</th>\n",
                            "      <th>orig_txn_diff</th>\n",
                            "      <th>type__CASH_IN</th>\n",
                            "      <th>type__CASH_OUT</th>\n",
                            "      <th>type__DEBIT</th>\n",
                            "      <th>type__PAYMENT</th>\n",
                            "      <th>type__TRANSFER</th>\n",
                            "    </tr>\n",
                            "  </thead>\n",
                            "  <tbody>\n",
                            "    <tr>\n",
                            "      <th>0</th>\n",
                            "      <td>1</td>\n",
                            "      <td>9839.64</td>\n",
                            "      <td>C1231006815</td>\n",
                            "      <td>170136.0</td>\n",
                            "      <td>160296.36</td>\n",
                            "      <td>M1979787155</td>\n",
                            "      <td>0.0</td>\n",
                            "      <td>0.0</td>\n",
                            "      <td>0</td>\n",
                            "      <td>0</td>\n",
                            "      <td>0.64</td>\n",
                            "      <td>0</td>\n",
                            "      <td>0</td>\n",
                            "      <td>0</td>\n",
                            "      <td>1</td>\n",
                            "      <td>0</td>\n",
                            "    </tr>\n",
                            "    <tr>\n",
                            "      <th>1</th>\n",
                            "      <td>1</td>\n",
                            "      <td>1864.28</td>\n",
                            "      <td>C1666544295</td>\n",
                            "      <td>21249.0</td>\n",
                            "      <td>19384.72</td>\n",
                            "      <td>M2044282225</td>\n",
                            "      <td>0.0</td>\n",
                            "      <td>0.0</td>\n",
                            "      <td>0</td>\n",
                            "      <td>0</td>\n",
                            "      <td>0.28</td>\n",
                            "      <td>0</td>\n",
                            "      <td>0</td>\n",
                            "      <td>0</td>\n",
                            "      <td>1</td>\n",
                            "      <td>0</td>\n",
                            "    </tr>\n",
                            "    <tr>\n",
                            "      <th>2</th>\n",
                            "      <td>1</td>\n",
                            "      <td>181.00</td>\n",
                            "      <td>C1305486145</td>\n",
                            "      <td>181.0</td>\n",
                            "      <td>0.00</td>\n",
                            "      <td>C553264065</td>\n",
                            "      <td>0.0</td>\n",
                            "      <td>0.0</td>\n",
                            "      <td>1</td>\n",
                            "      <td>0</td>\n",
                            "      <td>0.00</td>\n",
                            "      <td>0</td>\n",
                            "      <td>0</td>\n",
                            "      <td>0</td>\n",
                            "      <td>0</td>\n",
                            "      <td>1</td>\n",
                            "    </tr>\n",
                            "    <tr>\n",
                            "      <th>3</th>\n",
                            "      <td>1</td>\n",
                            "      <td>181.00</td>\n",
                            "      <td>C840083671</td>\n",
                            "      <td>181.0</td>\n",
                            "      <td>0.00</td>\n",
                            "      <td>C38997010</td>\n",
                            "      <td>21182.0</td>\n",
                            "      <td>0.0</td>\n",
                            "      <td>1</td>\n",
                            "      <td>0</td>\n",
                            "      <td>0.00</td>\n",
                            "      <td>0</td>\n",
                            "      <td>1</td>\n",
                            "      <td>0</td>\n",
                            "      <td>0</td>\n",
                            "      <td>0</td>\n",
                            "    </tr>\n",
                            "    <tr>\n",
                            "      <th>4</th>\n",
                            "      <td>1</td>\n",
                            "      <td>11668.14</td>\n",
                            "      <td>C2048537720</td>\n",
                            "      <td>41554.0</td>\n",
                            "      <td>29885.86</td>\n",
                            "      <td>M1230701703</td>\n",
                            "      <td>0.0</td>\n",
                            "      <td>0.0</td>\n",
                            "      <td>0</td>\n",
                            "      <td>0</td>\n",
                            "      <td>0.14</td>\n",
                            "      <td>0</td>\n",
                            "      <td>0</td>\n",
                            "      <td>0</td>\n",
                            "      <td>1</td>\n",
                            "      <td>0</td>\n",
                            "    </tr>\n",
                            "  </tbody>\n",
                            "</table>\n",
                            "</div>"
                        ]
                    },
                    "metadata": {},
                    "execution_count": 26
                }
            ],
            "metadata": {}
        },
        {
            "cell_type": "code",
            "execution_count": 28,
            "source": [
                "#preprocessing libraries\r\n",
                "from sklearn.preprocessing import StandardScaler\r\n",
                "from sklearn.model_selection import train_test_split"
            ],
            "outputs": [],
            "metadata": {}
        },
        {
            "cell_type": "code",
            "execution_count": 29,
            "source": [
                "#Splitting dependent and independent variable\r\n",
                "df_2=df_1.copy()\r\n",
                "X=df_2.drop('isFraud',axis=1)\r\n",
                "y=df_2['isFraud']\r\n",
                "\r\n",
                "# Train-test split\r\n",
                "X_train, X_test, y_train, y_test = train_test_split(X, y, train_size=0.7, random_state=111)\r\n",
                "\r\n",
                "#Standardizing the numerical columns\r\n",
                "col_names=['amount','oldbalanceOrg','newbalanceOrig','oldbalanceDest','newbalanceDest']\r\n",
                "features_train = X_train[col_names]\r\n",
                "features_test = X_test[col_names]\r\n",
                "scaler = StandardScaler().fit(features_train.values)\r\n",
                "features_train = scaler.transform(features_train.values)\r\n",
                "features_test = scaler.transform(features_test.values)\r\n",
                "X_train[col_names] = features_train\r\n",
                "X_test[col_names] =features_test"
            ],
            "outputs": [
                {
                    "output_type": "stream",
                    "name": "stderr",
                    "text": [
                        "<ipython-input-29-2d38440c08b6>:16: SettingWithCopyWarning:\n",
                        "\n",
                        "\n",
                        "A value is trying to be set on a copy of a slice from a DataFrame.\n",
                        "Try using .loc[row_indexer,col_indexer] = value instead\n",
                        "\n",
                        "See the caveats in the documentation: https://pandas.pydata.org/pandas-docs/stable/user_guide/indexing.html#returning-a-view-versus-a-copy\n",
                        "\n",
                        "C:\\Users\\prash\\anaconda3\\lib\\site-packages\\pandas\\core\\indexing.py:966: SettingWithCopyWarning:\n",
                        "\n",
                        "\n",
                        "A value is trying to be set on a copy of a slice from a DataFrame.\n",
                        "Try using .loc[row_indexer,col_indexer] = value instead\n",
                        "\n",
                        "See the caveats in the documentation: https://pandas.pydata.org/pandas-docs/stable/user_guide/indexing.html#returning-a-view-versus-a-copy\n",
                        "\n",
                        "<ipython-input-29-2d38440c08b6>:17: SettingWithCopyWarning:\n",
                        "\n",
                        "\n",
                        "A value is trying to be set on a copy of a slice from a DataFrame.\n",
                        "Try using .loc[row_indexer,col_indexer] = value instead\n",
                        "\n",
                        "See the caveats in the documentation: https://pandas.pydata.org/pandas-docs/stable/user_guide/indexing.html#returning-a-view-versus-a-copy\n",
                        "\n"
                    ]
                }
            ],
            "metadata": {}
        },
        {
            "cell_type": "code",
            "execution_count": 32,
            "source": [
                "#ML libraries\r\n",
                "import tensorflow as tf\r\n",
                "from sklearn.svm import SVC\r\n",
                "from sklearn.preprocessing import LabelEncoder\r\n",
                "from sklearn.preprocessing import StandardScaler\r\n",
                "from sklearn.ensemble import ExtraTreesClassifier\r\n",
                "from sklearn.pipeline import make_pipeline\r\n",
                "from sklearn.model_selection import GridSearchCV\r\n",
                "from sklearn.linear_model import LogisticRegression\r\n",
                "from sklearn.tree import DecisionTreeClassifier\r\n",
                "from sklearn.ensemble import RandomForestClassifier\r\n",
                "from sklearn.naive_bayes import GaussianNB\r\n",
                "from sklearn.neighbors import KNeighborsClassifier\r\n",
                "from sklearn.svm import SVC\r\n",
                "from sklearn.svm import LinearSVC\r\n",
                "from sklearn.pipeline import Pipeline"
            ],
            "outputs": [],
            "metadata": {}
        },
        {
            "cell_type": "code",
            "execution_count": 33,
            "source": [
                "#Tokenzation of customer name to get a unique id\r\n",
                "tokenizer_org = tf.keras.preprocessing.text.Tokenizer()\r\n",
                "tokenizer_org.fit_on_texts(X_train['nameOrig'])\r\n",
                "\r\n",
                "tokenizer_dest = tf.keras.preprocessing.text.Tokenizer()\r\n",
                "tokenizer_dest.fit_on_texts(X_train['nameDest'])\r\n",
                "\r\n",
                "# Create tokenized customer lists\r\n",
                "customers_train_org = tokenizer_org.texts_to_sequences(X_train['nameOrig'])\r\n",
                "customers_test_org = tokenizer_org.texts_to_sequences(X_test['nameOrig'])\r\n",
                "\r\n",
                "customers_train_dest = tokenizer_dest.texts_to_sequences(X_train['nameDest'])\r\n",
                "customers_test_dest = tokenizer_dest.texts_to_sequences(X_test['nameDest'])\r\n",
                "\r\n",
                "\r\n",
                "# Pad sequences\r\n",
                "X_train['customers_org'] = tf.keras.preprocessing.sequence.pad_sequences(customers_train_org, maxlen=1)\r\n",
                "X_test['customers_org'] = tf.keras.preprocessing.sequence.pad_sequences(customers_test_org, maxlen=1)\r\n",
                "\r\n",
                "X_train['customers_dest'] = tf.keras.preprocessing.sequence.pad_sequences(customers_train_dest, maxlen=1)\r\n",
                "X_test['customers_dest'] = tf.keras.preprocessing.sequence.pad_sequences(customers_test_dest, maxlen=1)"
            ],
            "outputs": [
                {
                    "output_type": "stream",
                    "name": "stderr",
                    "text": [
                        "<ipython-input-33-8c0a511f7b35>:17: SettingWithCopyWarning:\n",
                        "\n",
                        "\n",
                        "A value is trying to be set on a copy of a slice from a DataFrame.\n",
                        "Try using .loc[row_indexer,col_indexer] = value instead\n",
                        "\n",
                        "See the caveats in the documentation: https://pandas.pydata.org/pandas-docs/stable/user_guide/indexing.html#returning-a-view-versus-a-copy\n",
                        "\n",
                        "<ipython-input-33-8c0a511f7b35>:18: SettingWithCopyWarning:\n",
                        "\n",
                        "\n",
                        "A value is trying to be set on a copy of a slice from a DataFrame.\n",
                        "Try using .loc[row_indexer,col_indexer] = value instead\n",
                        "\n",
                        "See the caveats in the documentation: https://pandas.pydata.org/pandas-docs/stable/user_guide/indexing.html#returning-a-view-versus-a-copy\n",
                        "\n",
                        "<ipython-input-33-8c0a511f7b35>:20: SettingWithCopyWarning:\n",
                        "\n",
                        "\n",
                        "A value is trying to be set on a copy of a slice from a DataFrame.\n",
                        "Try using .loc[row_indexer,col_indexer] = value instead\n",
                        "\n",
                        "See the caveats in the documentation: https://pandas.pydata.org/pandas-docs/stable/user_guide/indexing.html#returning-a-view-versus-a-copy\n",
                        "\n",
                        "<ipython-input-33-8c0a511f7b35>:21: SettingWithCopyWarning:\n",
                        "\n",
                        "\n",
                        "A value is trying to be set on a copy of a slice from a DataFrame.\n",
                        "Try using .loc[row_indexer,col_indexer] = value instead\n",
                        "\n",
                        "See the caveats in the documentation: https://pandas.pydata.org/pandas-docs/stable/user_guide/indexing.html#returning-a-view-versus-a-copy\n",
                        "\n"
                    ]
                }
            ],
            "metadata": {}
        },
        {
            "cell_type": "code",
            "execution_count": 34,
            "source": [
                "#Dropping unnecessary columns\r\n",
                "X_train=X_train.drop(['nameOrig','nameDest','isFlaggedFraud'],axis=1)\r\n",
                "X_train = X_train.reset_index(drop=True)\r\n",
                "\r\n",
                "X_test=X_test.drop(['nameOrig','nameDest','isFlaggedFraud'],axis=1)\r\n",
                "X_test = X_test.reset_index(drop=True)"
            ],
            "outputs": [],
            "metadata": {}
        },
        {
            "cell_type": "code",
            "execution_count": 35,
            "source": [
                "#creating the objects\r\n",
                "logreg_cv = LogisticRegression(solver='liblinear',random_state=123)\r\n",
                "dt_cv=DecisionTreeClassifier(random_state=123)\r\n",
                "knn_cv=KNeighborsClassifier()\r\n",
                "svc_cv=SVC(kernel='linear',random_state=123)\r\n",
                "nb_cv=GaussianNB()\r\n",
                "rf_cv=RandomForestClassifier(random_state=123)\r\n",
                "cv_dict = {0: 'Logistic Regression', 1: 'Decision Tree',2:'KNN',3:'SVC',4:'Naive Bayes',5:'Random Forest'}\r\n",
                "cv_models=[logreg_cv,dt_cv,knn_cv,svc_cv,nb_cv,rf_cv]\r\n",
                "\r\n",
                "\r\n",
                "for i,model in enumerate(cv_models):\r\n",
                "    print(\"{} Test Accuracy: {}\".format(cv_dict[i],cross_val_score(model, X_train, y_train, cv=10, scoring ='accuracy').mean()))"
            ],
            "outputs": [],
            "metadata": {}
        },
        {
            "cell_type": "code",
            "execution_count": null,
            "source": [
                "param_grid_nb = {\r\n",
                "    'var_smoothing': np.logspace(0,-9, num=100)\r\n",
                "}\r\n",
                "\r\n",
                "nbModel_grid = GridSearchCV(estimator=GaussianNB(), param_grid=param_grid_nb, verbose=1, cv=10, n_jobs=-1)\r\n",
                "nbModel_grid.fit(X_train, y_train)\r\n",
                "print(nbModel_grid.best_estimator_)"
            ],
            "outputs": [],
            "metadata": {}
        },
        {
            "cell_type": "code",
            "execution_count": 30,
            "source": [
                "#Metrics Libraries\r\n",
                "from sklearn import metrics\r\n",
                "from sklearn.metrics import classification_report\r\n",
                "from sklearn.model_selection import cross_val_score\r\n",
                "from sklearn.metrics import accuracy_score\r\n",
                "from sklearn.metrics import confusion_matrix"
            ],
            "outputs": [],
            "metadata": {}
        },
        {
            "cell_type": "code",
            "execution_count": null,
            "source": [],
            "outputs": [],
            "metadata": {}
        }
    ],
    "metadata": {
        "orig_nbformat": 4,
        "language_info": {
            "name": "python",
            "version": "3.8.3",
            "mimetype": "text/x-python",
            "codemirror_mode": {
                "name": "ipython",
                "version": 3
            },
            "pygments_lexer": "ipython3",
            "nbconvert_exporter": "python",
            "file_extension": ".py"
        },
        "kernelspec": {
            "name": "python3",
            "display_name": "Python 3.8.3 64-bit ('base': conda)"
        },
        "interpreter": {
            "hash": "cbcdce6a926c612543ae8aba0643a88349cf2a8bb8d86298bcef1d1eb04f3dcc"
        }
    },
    "nbformat": 4,
    "nbformat_minor": 2
}