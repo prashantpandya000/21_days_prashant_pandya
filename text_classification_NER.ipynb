{
  "nbformat": 4,
  "nbformat_minor": 0,
  "metadata": {
    "colab": {
      "name": "text_classification_NER.ipynb",
      "provenance": [],
      "collapsed_sections": [],
      "authorship_tag": "ABX9TyP3wRH98XElMBN2aIVIDkdh",
      "include_colab_link": true
    },
    "kernelspec": {
      "name": "python3",
      "display_name": "Python 3"
    },
    "language_info": {
      "name": "python"
    }
  },
  "cells": [
    {
      "cell_type": "markdown",
      "metadata": {
        "id": "view-in-github",
        "colab_type": "text"
      },
      "source": [
        "<a href=\"https://colab.research.google.com/github/prashantpandya000/21_days_prashant_pandya/blob/main/text_classification_NER.ipynb\" target=\"_parent\"><img src=\"https://colab.research.google.com/assets/colab-badge.svg\" alt=\"Open In Colab\"/></a>"
      ]
    },
    {
      "cell_type": "code",
      "metadata": {
        "id": "-sFYSATmfT7A"
      },
      "source": [
        "### this is text classification which uses spacy library where i use custom named entity recoginiton\n",
        "\n",
        "import spacy"
      ],
      "execution_count": 1,
      "outputs": []
    },
    {
      "cell_type": "code",
      "metadata": {
        "colab": {
          "base_uri": "https://localhost:8080/"
        },
        "id": "x2PXYv7gJhpt",
        "outputId": "ac48d579-eb4d-4d14-e532-ea4f3216e019"
      },
      "source": [
        "nlp=spacy.load('en_core_web_sm')\n",
        "nlp.pipe_names"
      ],
      "execution_count": 2,
      "outputs": [
        {
          "output_type": "execute_result",
          "data": {
            "text/plain": [
              "['tagger', 'parser', 'ner']"
            ]
          },
          "metadata": {
            "tags": []
          },
          "execution_count": 2
        }
      ]
    },
    {
      "cell_type": "code",
      "metadata": {
        "id": "WiKADE2DJ1ym"
      },
      "source": [
        "doc=nlp(\"\"\"ALERT:You've spent Rs.2.00 via Debit Card xx2217 at AMAZON PAY INDIA PRIVA on 2021-03-25:02:10:37.Avl Bal Rs.1091.07.Not you?Call 18002586161.\n",
        "\"\"\")"
      ],
      "execution_count": 11,
      "outputs": []
    },
    {
      "cell_type": "code",
      "metadata": {
        "colab": {
          "base_uri": "https://localhost:8080/",
          "height": 178
        },
        "id": "tYa2s-OLKBz3",
        "outputId": "622feded-39e9-42bf-edcc-1e3e9e7255b7"
      },
      "source": [
        "for ent in doc2.ents:\n",
        "  print(ent.text,ent.start_char,ent.end_char,ent.label_)"
      ],
      "execution_count": 29,
      "outputs": [
        {
          "output_type": "error",
          "ename": "AttributeError",
          "evalue": "ignored",
          "traceback": [
            "\u001b[0;31m---------------------------------------------------------------------------\u001b[0m",
            "\u001b[0;31mAttributeError\u001b[0m                            Traceback (most recent call last)",
            "\u001b[0;32m<ipython-input-29-35133b8b3a6e>\u001b[0m in \u001b[0;36m<module>\u001b[0;34m()\u001b[0m\n\u001b[0;32m----> 1\u001b[0;31m \u001b[0;32mfor\u001b[0m \u001b[0ment\u001b[0m \u001b[0;32min\u001b[0m \u001b[0mtrain\u001b[0m\u001b[0;34m.\u001b[0m\u001b[0ments\u001b[0m\u001b[0;34m:\u001b[0m\u001b[0;34m\u001b[0m\u001b[0;34m\u001b[0m\u001b[0m\n\u001b[0m\u001b[1;32m      2\u001b[0m   \u001b[0mprint\u001b[0m\u001b[0;34m(\u001b[0m\u001b[0ment\u001b[0m\u001b[0;34m.\u001b[0m\u001b[0mtext\u001b[0m\u001b[0;34m,\u001b[0m\u001b[0ment\u001b[0m\u001b[0;34m.\u001b[0m\u001b[0mstart_char\u001b[0m\u001b[0;34m,\u001b[0m\u001b[0ment\u001b[0m\u001b[0;34m.\u001b[0m\u001b[0mend_char\u001b[0m\u001b[0;34m,\u001b[0m\u001b[0ment\u001b[0m\u001b[0;34m.\u001b[0m\u001b[0mlabel_\u001b[0m\u001b[0;34m)\u001b[0m\u001b[0;34m\u001b[0m\u001b[0;34m\u001b[0m\u001b[0m\n",
            "\u001b[0;31mAttributeError\u001b[0m: 'list' object has no attribute 'ents'"
          ]
        }
      ]
    },
    {
      "cell_type": "code",
      "metadata": {
        "id": "meNeOmpMOLj5"
      },
      "source": [
        "doc2=nlp(\"\"\"ALERT:You've withdrawn Rs.500.00 via Debit Card xx1135 at +UBI NOIDA MAIN on 2021-06-06:20:27:20.Avl Bal Rs.854.14.Not you?Call 18002586161.\"\"\")"
      ],
      "execution_count": 19,
      "outputs": []
    },
    {
      "cell_type": "code",
      "metadata": {
        "id": "X2pYAuVlKW_K"
      },
      "source": [
        "doc=nlp(\"\"\"Rs.327.25 on Zomato charged via Simpl.Food, groceries, commute, or medicines. Buy Now, Pay Later via Simpl. Know More:    https://app.getsimpl.com/Jrf0zPQaFt- Simpl Pay\n",
        "\"\"\")"
      ],
      "execution_count": 17,
      "outputs": []
    },
    {
      "cell_type": "code",
      "metadata": {
        "id": "nRFR3V72Ktxi"
      },
      "source": [
        "train=[ (\"\"\"ALERT:You've spent Rs.2.00 via Debit Card xx2217 at AMAZON PAY INDIA PRIVA on 2021-03-25:02:10:37.Avl Bal Rs.1091.07.Not you?Call 18002586161.\"\"\", {\n",
        "        'entities': [(52, 58, 'online_shopping')]\n",
        "    }),\n",
        "     (\"\"\"Rs.327.25 on Zomato charged via Simpl.Food, groceries, commute, or medicines. Buy Now, Pay Later via Simpl. Know More:    https://app.getsimpl.com/Jrf0zPQaFt- Simpl Pay\"\"\", {\n",
        "        'entities': [(13, 19, 'food')]\n",
        "    }),\n",
        "    (\"\"\"ALERT:You've withdrawn Rs.500.00 via Debit Card xx1135 at +UBI NOIDA MAIN on 2021-06-06:20:27:20.Avl Bal Rs.854.14.Not you?Call 18002586161.\"\"\", {\n",
        "        'entities': [(13, 21, 'withdrawal')]\n",
        "    })]"
      ],
      "execution_count": 27,
      "outputs": []
    },
    {
      "cell_type": "code",
      "metadata": {
        "colab": {
          "base_uri": "https://localhost:8080/"
        },
        "id": "hHcCWvYqOleE",
        "outputId": "b75597b7-b53a-455d-ee2c-0d5900d6e9b0"
      },
      "source": [
        "nlp.pipe_names"
      ],
      "execution_count": 22,
      "outputs": [
        {
          "output_type": "execute_result",
          "data": {
            "text/plain": [
              "['tagger', 'parser', 'ner']"
            ]
          },
          "metadata": {
            "tags": []
          },
          "execution_count": 22
        }
      ]
    },
    {
      "cell_type": "code",
      "metadata": {
        "id": "URg_OKasOvQk"
      },
      "source": [
        "ner=nlp.get_pipe(\"ner\")"
      ],
      "execution_count": 23,
      "outputs": []
    },
    {
      "cell_type": "code",
      "metadata": {
        "id": "QLaagN8NQmjQ"
      },
      "source": [
        "from __future__ import unicode_literals, print_function\n",
        "import plac\n",
        "import random\n",
        "from pathlib import Path\n",
        "import spacy\n",
        "from tqdm import tqdm"
      ],
      "execution_count": 33,
      "outputs": []
    },
    {
      "cell_type": "code",
      "metadata": {
        "id": "DaEy92NbQckA"
      },
      "source": [
        "model = None\n",
        "output_dir=Path(\"C:\\\\Users\\\\nithi\\\\Documents\\\\ner\")\n",
        "n_iter=100"
      ],
      "execution_count": 34,
      "outputs": []
    },
    {
      "cell_type": "code",
      "metadata": {
        "colab": {
          "base_uri": "https://localhost:8080/"
        },
        "id": "kHIkMl_CQsVs",
        "outputId": "908137d0-fd12-442b-d02b-0c07889e27a2"
      },
      "source": [
        "if model is not None:\n",
        "    nlp = spacy.load(model)  \n",
        "    print(\"Loaded model '%s'\" % model)\n",
        "else:\n",
        "    nlp = spacy.blank('en')  \n",
        "    print(\"Created blank 'en' model\")\n",
        "\n",
        "#set up the pipeline\n",
        "\n",
        "if 'ner' not in nlp.pipe_names:\n",
        "    ner = nlp.create_pipe('ner')\n",
        "    nlp.add_pipe(ner, last=True)\n",
        "else:\n",
        "    ner = nlp.get_pipe('ner')"
      ],
      "execution_count": 35,
      "outputs": [
        {
          "output_type": "stream",
          "text": [
            "Created blank 'en' model\n"
          ],
          "name": "stdout"
        }
      ]
    },
    {
      "cell_type": "code",
      "metadata": {
        "id": "V0U_0OKgO1XB"
      },
      "source": [
        "for _,annotations in train:\n",
        "  for ent in annotations.get('entities'):\n",
        "    ner.add_label(ent[2])"
      ],
      "execution_count": 38,
      "outputs": []
    },
    {
      "cell_type": "code",
      "metadata": {
        "colab": {
          "base_uri": "https://localhost:8080/"
        },
        "id": "2YY0RopBPPRB",
        "outputId": "979965d2-8563-4415-913d-4ab216b439e6"
      },
      "source": [
        "other_pipes = [pipe for pipe in nlp.pipe_names if pipe != 'ner']\n",
        "with nlp.disable_pipes(*other_pipes):  # only train NER\n",
        "    optimizer = nlp.begin_training()\n",
        "    for itn in range(n_iter):\n",
        "        random.shuffle(train)\n",
        "        losses = {}\n",
        "        for text, annotations in tqdm(train):\n",
        "            nlp.update(\n",
        "                [text],  \n",
        "                [annotations],  \n",
        "                drop=0.5,  \n",
        "                sgd=optimizer,\n",
        "                losses=losses)\n",
        "        print(losses)"
      ],
      "execution_count": 39,
      "outputs": [
        {
          "output_type": "stream",
          "text": [
            "100%|██████████| 3/3 [00:00<00:00, 17.87it/s]\n",
            "100%|██████████| 3/3 [00:00<00:00, 23.58it/s]\n",
            "  0%|          | 0/3 [00:00<?, ?it/s]"
          ],
          "name": "stderr"
        },
        {
          "output_type": "stream",
          "text": [
            "{'ner': 72.14813196659088}\n",
            "{'ner': 63.652657859027386}\n"
          ],
          "name": "stdout"
        },
        {
          "output_type": "stream",
          "text": [
            "100%|██████████| 3/3 [00:00<00:00, 21.53it/s]\n",
            "100%|██████████| 3/3 [00:00<00:00, 24.19it/s]\n",
            "  0%|          | 0/3 [00:00<?, ?it/s]"
          ],
          "name": "stderr"
        },
        {
          "output_type": "stream",
          "text": [
            "{'ner': 50.25782124698162}\n",
            "{'ner': 37.58334895595908}\n"
          ],
          "name": "stdout"
        },
        {
          "output_type": "stream",
          "text": [
            "100%|██████████| 3/3 [00:00<00:00, 21.99it/s]\n",
            "100%|██████████| 3/3 [00:00<00:00, 23.76it/s]\n",
            "  0%|          | 0/3 [00:00<?, ?it/s]"
          ],
          "name": "stderr"
        },
        {
          "output_type": "stream",
          "text": [
            "{'ner': 12.589083883911371}\n",
            "{'ner': 5.987744127935912}\n"
          ],
          "name": "stdout"
        },
        {
          "output_type": "stream",
          "text": [
            "100%|██████████| 3/3 [00:00<00:00, 20.04it/s]\n",
            "100%|██████████| 3/3 [00:00<00:00, 23.56it/s]\n",
            "  0%|          | 0/3 [00:00<?, ?it/s]"
          ],
          "name": "stderr"
        },
        {
          "output_type": "stream",
          "text": [
            "{'ner': 4.43464973158285}\n",
            "{'ner': 4.034233563444302}\n"
          ],
          "name": "stdout"
        },
        {
          "output_type": "stream",
          "text": [
            "100%|██████████| 3/3 [00:00<00:00, 22.08it/s]\n",
            "100%|██████████| 3/3 [00:00<00:00, 22.26it/s]\n",
            "  0%|          | 0/3 [00:00<?, ?it/s]"
          ],
          "name": "stderr"
        },
        {
          "output_type": "stream",
          "text": [
            "{'ner': 3.9982256281866824}\n",
            "{'ner': 3.980519550137654}\n"
          ],
          "name": "stdout"
        },
        {
          "output_type": "stream",
          "text": [
            "100%|██████████| 3/3 [00:00<00:00, 21.82it/s]\n",
            "100%|██████████| 3/3 [00:00<00:00, 22.94it/s]\n",
            "  0%|          | 0/3 [00:00<?, ?it/s]"
          ],
          "name": "stderr"
        },
        {
          "output_type": "stream",
          "text": [
            "{'ner': 4.001040234884642}\n",
            "{'ner': 3.9946341426087244}\n"
          ],
          "name": "stdout"
        },
        {
          "output_type": "stream",
          "text": [
            "100%|██████████| 3/3 [00:00<00:00, 23.18it/s]\n",
            "100%|██████████| 3/3 [00:00<00:00, 22.54it/s]\n",
            "  0%|          | 0/3 [00:00<?, ?it/s]"
          ],
          "name": "stderr"
        },
        {
          "output_type": "stream",
          "text": [
            "{'ner': 3.825833157043293}\n",
            "{'ner': 3.995005281397723}\n"
          ],
          "name": "stdout"
        },
        {
          "output_type": "stream",
          "text": [
            "100%|██████████| 3/3 [00:00<00:00, 22.56it/s]\n",
            "100%|██████████| 3/3 [00:00<00:00, 22.92it/s]\n",
            "  0%|          | 0/3 [00:00<?, ?it/s]"
          ],
          "name": "stderr"
        },
        {
          "output_type": "stream",
          "text": [
            "{'ner': 3.672186281520531}\n",
            "{'ner': 3.506515588230999}\n"
          ],
          "name": "stdout"
        },
        {
          "output_type": "stream",
          "text": [
            "100%|██████████| 3/3 [00:00<00:00, 22.11it/s]\n",
            "100%|██████████| 3/3 [00:00<00:00, 23.67it/s]\n",
            "  0%|          | 0/3 [00:00<?, ?it/s]"
          ],
          "name": "stderr"
        },
        {
          "output_type": "stream",
          "text": [
            "{'ner': 2.347528344031934}\n",
            "{'ner': 2.873348372003937}\n"
          ],
          "name": "stdout"
        },
        {
          "output_type": "stream",
          "text": [
            "100%|██████████| 3/3 [00:00<00:00, 21.35it/s]\n",
            "100%|██████████| 3/3 [00:00<00:00, 23.25it/s]\n",
            "  0%|          | 0/3 [00:00<?, ?it/s]"
          ],
          "name": "stderr"
        },
        {
          "output_type": "stream",
          "text": [
            "{'ner': 43.19557711313135}\n",
            "{'ner': 2.7807621266290288}\n"
          ],
          "name": "stdout"
        },
        {
          "output_type": "stream",
          "text": [
            "100%|██████████| 3/3 [00:00<00:00, 23.72it/s]\n",
            "100%|██████████| 3/3 [00:00<00:00, 23.51it/s]\n",
            "  0%|          | 0/3 [00:00<?, ?it/s]"
          ],
          "name": "stderr"
        },
        {
          "output_type": "stream",
          "text": [
            "{'ner': 4.745596396809227}\n",
            "{'ner': 5.0032165516725575}\n"
          ],
          "name": "stdout"
        },
        {
          "output_type": "stream",
          "text": [
            "100%|██████████| 3/3 [00:00<00:00, 23.77it/s]\n",
            "100%|██████████| 3/3 [00:00<00:00, 21.56it/s]\n",
            "  0%|          | 0/3 [00:00<?, ?it/s]"
          ],
          "name": "stderr"
        },
        {
          "output_type": "stream",
          "text": [
            "{'ner': 3.7443811033093333}\n",
            "{'ner': 3.057158548628503}\n"
          ],
          "name": "stdout"
        },
        {
          "output_type": "stream",
          "text": [
            "100%|██████████| 3/3 [00:00<00:00, 23.38it/s]\n",
            "100%|██████████| 3/3 [00:00<00:00, 22.61it/s]\n",
            "  0%|          | 0/3 [00:00<?, ?it/s]"
          ],
          "name": "stderr"
        },
        {
          "output_type": "stream",
          "text": [
            "{'ner': 2.392407858747151}\n",
            "{'ner': 5.110272083752292}\n"
          ],
          "name": "stdout"
        },
        {
          "output_type": "stream",
          "text": [
            "100%|██████████| 3/3 [00:00<00:00, 21.64it/s]\n",
            "100%|██████████| 3/3 [00:00<00:00, 24.90it/s]\n",
            "  0%|          | 0/3 [00:00<?, ?it/s]"
          ],
          "name": "stderr"
        },
        {
          "output_type": "stream",
          "text": [
            "{'ner': 3.910897245455415}\n",
            "{'ner': 4.194191891970723}\n"
          ],
          "name": "stdout"
        },
        {
          "output_type": "stream",
          "text": [
            "100%|██████████| 3/3 [00:00<00:00, 22.46it/s]\n",
            "100%|██████████| 3/3 [00:00<00:00, 21.48it/s]\n",
            "  0%|          | 0/3 [00:00<?, ?it/s]"
          ],
          "name": "stderr"
        },
        {
          "output_type": "stream",
          "text": [
            "{'ner': 3.506370646552571}\n",
            "{'ner': 2.366778410402474}\n"
          ],
          "name": "stdout"
        },
        {
          "output_type": "stream",
          "text": [
            "100%|██████████| 3/3 [00:00<00:00, 22.09it/s]\n",
            "100%|██████████| 3/3 [00:00<00:00, 22.22it/s]\n",
            "  0%|          | 0/3 [00:00<?, ?it/s]"
          ],
          "name": "stderr"
        },
        {
          "output_type": "stream",
          "text": [
            "{'ner': 1.9370547138652066}\n",
            "{'ner': 1.787114326429725}\n"
          ],
          "name": "stdout"
        },
        {
          "output_type": "stream",
          "text": [
            "100%|██████████| 3/3 [00:00<00:00, 22.13it/s]\n",
            "100%|██████████| 3/3 [00:00<00:00, 21.85it/s]\n",
            "  0%|          | 0/3 [00:00<?, ?it/s]"
          ],
          "name": "stderr"
        },
        {
          "output_type": "stream",
          "text": [
            "{'ner': 1.0740250625342143}\n",
            "{'ner': 2.8508773459049883}\n"
          ],
          "name": "stdout"
        },
        {
          "output_type": "stream",
          "text": [
            "100%|██████████| 3/3 [00:00<00:00, 22.01it/s]\n",
            "100%|██████████| 3/3 [00:00<00:00, 23.67it/s]\n",
            "  0%|          | 0/3 [00:00<?, ?it/s]"
          ],
          "name": "stderr"
        },
        {
          "output_type": "stream",
          "text": [
            "{'ner': 2.4720339756471312}\n",
            "{'ner': 0.8259038341544269}\n"
          ],
          "name": "stdout"
        },
        {
          "output_type": "stream",
          "text": [
            "100%|██████████| 3/3 [00:00<00:00, 23.15it/s]\n",
            "100%|██████████| 3/3 [00:00<00:00, 23.07it/s]\n",
            "  0%|          | 0/3 [00:00<?, ?it/s]"
          ],
          "name": "stderr"
        },
        {
          "output_type": "stream",
          "text": [
            "{'ner': 1.7911980406642596}\n",
            "{'ner': 1.4437089949808708}\n"
          ],
          "name": "stdout"
        },
        {
          "output_type": "stream",
          "text": [
            "100%|██████████| 3/3 [00:00<00:00, 22.78it/s]\n",
            "100%|██████████| 3/3 [00:00<00:00, 22.66it/s]\n",
            "  0%|          | 0/3 [00:00<?, ?it/s]"
          ],
          "name": "stderr"
        },
        {
          "output_type": "stream",
          "text": [
            "{'ner': 0.7153076341998204}\n",
            "{'ner': 0.8129636227563186}\n"
          ],
          "name": "stdout"
        },
        {
          "output_type": "stream",
          "text": [
            "100%|██████████| 3/3 [00:00<00:00, 20.22it/s]\n",
            "100%|██████████| 3/3 [00:00<00:00, 21.72it/s]\n",
            "  0%|          | 0/3 [00:00<?, ?it/s]"
          ],
          "name": "stderr"
        },
        {
          "output_type": "stream",
          "text": [
            "{'ner': 0.3090896370715636}\n",
            "{'ner': 0.3168717364281676}\n"
          ],
          "name": "stdout"
        },
        {
          "output_type": "stream",
          "text": [
            "100%|██████████| 3/3 [00:00<00:00, 22.62it/s]\n",
            "100%|██████████| 3/3 [00:00<00:00, 21.87it/s]\n",
            "  0%|          | 0/3 [00:00<?, ?it/s]"
          ],
          "name": "stderr"
        },
        {
          "output_type": "stream",
          "text": [
            "{'ner': 0.6551220154313571}\n",
            "{'ner': 0.0164864444097577}\n"
          ],
          "name": "stdout"
        },
        {
          "output_type": "stream",
          "text": [
            "100%|██████████| 3/3 [00:00<00:00, 22.35it/s]\n",
            "100%|██████████| 3/3 [00:00<00:00, 23.00it/s]\n",
            "  0%|          | 0/3 [00:00<?, ?it/s]"
          ],
          "name": "stderr"
        },
        {
          "output_type": "stream",
          "text": [
            "{'ner': 0.5670779103378647}\n",
            "{'ner': 0.044676670004326895}\n"
          ],
          "name": "stdout"
        },
        {
          "output_type": "stream",
          "text": [
            "100%|██████████| 3/3 [00:00<00:00, 23.20it/s]\n",
            "100%|██████████| 3/3 [00:00<00:00, 22.20it/s]\n",
            "  0%|          | 0/3 [00:00<?, ?it/s]"
          ],
          "name": "stderr"
        },
        {
          "output_type": "stream",
          "text": [
            "{'ner': 0.048960658839213696}\n",
            "{'ner': 0.0023264513722362234}\n"
          ],
          "name": "stdout"
        },
        {
          "output_type": "stream",
          "text": [
            "100%|██████████| 3/3 [00:00<00:00, 22.63it/s]\n",
            "100%|██████████| 3/3 [00:00<00:00, 23.00it/s]\n",
            "  0%|          | 0/3 [00:00<?, ?it/s]"
          ],
          "name": "stderr"
        },
        {
          "output_type": "stream",
          "text": [
            "{'ner': 0.022695705992452055}\n",
            "{'ner': 5.271177653550247e-06}\n"
          ],
          "name": "stdout"
        },
        {
          "output_type": "stream",
          "text": [
            "100%|██████████| 3/3 [00:00<00:00, 22.81it/s]\n",
            "100%|██████████| 3/3 [00:00<00:00, 22.85it/s]\n",
            "  0%|          | 0/3 [00:00<?, ?it/s]"
          ],
          "name": "stderr"
        },
        {
          "output_type": "stream",
          "text": [
            "{'ner': 0.02272601563203173}\n",
            "{'ner': 0.004771244623666512}\n"
          ],
          "name": "stdout"
        },
        {
          "output_type": "stream",
          "text": [
            "100%|██████████| 3/3 [00:00<00:00, 23.00it/s]\n",
            "100%|██████████| 3/3 [00:00<00:00, 22.46it/s]\n",
            "  0%|          | 0/3 [00:00<?, ?it/s]"
          ],
          "name": "stderr"
        },
        {
          "output_type": "stream",
          "text": [
            "{'ner': 0.09172737203427066}\n",
            "{'ner': 7.975878375274272e-05}\n"
          ],
          "name": "stdout"
        },
        {
          "output_type": "stream",
          "text": [
            "100%|██████████| 3/3 [00:00<00:00, 22.58it/s]\n",
            "100%|██████████| 3/3 [00:00<00:00, 23.03it/s]\n",
            "  0%|          | 0/3 [00:00<?, ?it/s]"
          ],
          "name": "stderr"
        },
        {
          "output_type": "stream",
          "text": [
            "{'ner': 5.720130140254277e-06}\n",
            "{'ner': 3.244072306983278e-07}\n"
          ],
          "name": "stdout"
        },
        {
          "output_type": "stream",
          "text": [
            "100%|██████████| 3/3 [00:00<00:00, 23.44it/s]\n",
            "100%|██████████| 3/3 [00:00<00:00, 22.67it/s]\n",
            "  0%|          | 0/3 [00:00<?, ?it/s]"
          ],
          "name": "stderr"
        },
        {
          "output_type": "stream",
          "text": [
            "{'ner': 4.591379490616835e-06}\n",
            "{'ner': 2.2803559463351045e-05}\n"
          ],
          "name": "stdout"
        },
        {
          "output_type": "stream",
          "text": [
            "100%|██████████| 3/3 [00:00<00:00, 22.61it/s]\n",
            "100%|██████████| 3/3 [00:00<00:00, 23.08it/s]\n",
            "  0%|          | 0/3 [00:00<?, ?it/s]"
          ],
          "name": "stderr"
        },
        {
          "output_type": "stream",
          "text": [
            "{'ner': 0.003104007942780625}\n",
            "{'ner': 0.005016188073638035}\n"
          ],
          "name": "stdout"
        },
        {
          "output_type": "stream",
          "text": [
            "100%|██████████| 3/3 [00:00<00:00, 22.39it/s]\n",
            "100%|██████████| 3/3 [00:00<00:00, 22.20it/s]\n",
            "  0%|          | 0/3 [00:00<?, ?it/s]"
          ],
          "name": "stderr"
        },
        {
          "output_type": "stream",
          "text": [
            "{'ner': 1.4344497252939154e-07}\n",
            "{'ner': 3.678747980608794e-06}\n"
          ],
          "name": "stdout"
        },
        {
          "output_type": "stream",
          "text": [
            "100%|██████████| 3/3 [00:00<00:00, 21.91it/s]\n",
            "100%|██████████| 3/3 [00:00<00:00, 23.45it/s]\n",
            "  0%|          | 0/3 [00:00<?, ?it/s]"
          ],
          "name": "stderr"
        },
        {
          "output_type": "stream",
          "text": [
            "{'ner': 2.149284149365974e-05}\n",
            "{'ner': 1.0797942971097733e-06}\n"
          ],
          "name": "stdout"
        },
        {
          "output_type": "stream",
          "text": [
            "100%|██████████| 3/3 [00:00<00:00, 22.50it/s]\n",
            "100%|██████████| 3/3 [00:00<00:00, 22.13it/s]\n",
            "  0%|          | 0/3 [00:00<?, ?it/s]"
          ],
          "name": "stderr"
        },
        {
          "output_type": "stream",
          "text": [
            "{'ner': 0.00275296272918135}\n",
            "{'ner': 0.00014333834929685114}\n"
          ],
          "name": "stdout"
        },
        {
          "output_type": "stream",
          "text": [
            "100%|██████████| 3/3 [00:00<00:00, 20.44it/s]\n",
            "100%|██████████| 3/3 [00:00<00:00, 23.23it/s]\n",
            "  0%|          | 0/3 [00:00<?, ?it/s]"
          ],
          "name": "stderr"
        },
        {
          "output_type": "stream",
          "text": [
            "{'ner': 8.622096566937951e-05}\n",
            "{'ner': 1.1450808599245724e-05}\n"
          ],
          "name": "stdout"
        },
        {
          "output_type": "stream",
          "text": [
            "100%|██████████| 3/3 [00:00<00:00, 19.91it/s]\n",
            "100%|██████████| 3/3 [00:00<00:00, 21.79it/s]\n",
            "  0%|          | 0/3 [00:00<?, ?it/s]"
          ],
          "name": "stderr"
        },
        {
          "output_type": "stream",
          "text": [
            "{'ner': 0.001901218342584513}\n",
            "{'ner': 0.0006881871483817872}\n"
          ],
          "name": "stdout"
        },
        {
          "output_type": "stream",
          "text": [
            "100%|██████████| 3/3 [00:00<00:00, 22.02it/s]\n",
            "100%|██████████| 3/3 [00:00<00:00, 22.98it/s]\n",
            "  0%|          | 0/3 [00:00<?, ?it/s]"
          ],
          "name": "stderr"
        },
        {
          "output_type": "stream",
          "text": [
            "{'ner': 0.06371347750986896}\n",
            "{'ner': 6.921409719116014e-07}\n"
          ],
          "name": "stdout"
        },
        {
          "output_type": "stream",
          "text": [
            "100%|██████████| 3/3 [00:00<00:00, 22.93it/s]\n",
            "100%|██████████| 3/3 [00:00<00:00, 23.80it/s]\n",
            "  0%|          | 0/3 [00:00<?, ?it/s]"
          ],
          "name": "stderr"
        },
        {
          "output_type": "stream",
          "text": [
            "{'ner': 2.9726169499008777e-06}\n",
            "{'ner': 0.0004839097043144455}\n"
          ],
          "name": "stdout"
        },
        {
          "output_type": "stream",
          "text": [
            "100%|██████████| 3/3 [00:00<00:00, 22.78it/s]\n",
            "100%|██████████| 3/3 [00:00<00:00, 22.83it/s]\n",
            "  0%|          | 0/3 [00:00<?, ?it/s]"
          ],
          "name": "stderr"
        },
        {
          "output_type": "stream",
          "text": [
            "{'ner': 0.0006960931244637786}\n",
            "{'ner': 1.0708794793374718e-08}\n"
          ],
          "name": "stdout"
        },
        {
          "output_type": "stream",
          "text": [
            "100%|██████████| 3/3 [00:00<00:00, 21.24it/s]\n",
            "100%|██████████| 3/3 [00:00<00:00, 23.67it/s]\n",
            "  0%|          | 0/3 [00:00<?, ?it/s]"
          ],
          "name": "stderr"
        },
        {
          "output_type": "stream",
          "text": [
            "{'ner': 2.874917440628001e-05}\n",
            "{'ner': 0.00014752667114059168}\n"
          ],
          "name": "stdout"
        },
        {
          "output_type": "stream",
          "text": [
            "100%|██████████| 3/3 [00:00<00:00, 22.05it/s]\n",
            "100%|██████████| 3/3 [00:00<00:00, 23.67it/s]\n",
            "  0%|          | 0/3 [00:00<?, ?it/s]"
          ],
          "name": "stderr"
        },
        {
          "output_type": "stream",
          "text": [
            "{'ner': 1.2462768766119064e-07}\n",
            "{'ner': 8.050002394829374e-07}\n"
          ],
          "name": "stdout"
        },
        {
          "output_type": "stream",
          "text": [
            "100%|██████████| 3/3 [00:00<00:00, 22.44it/s]\n",
            "100%|██████████| 3/3 [00:00<00:00, 22.76it/s]\n",
            "  0%|          | 0/3 [00:00<?, ?it/s]"
          ],
          "name": "stderr"
        },
        {
          "output_type": "stream",
          "text": [
            "{'ner': 2.051881853884026e-06}\n",
            "{'ner': 0.00011758069607273661}\n"
          ],
          "name": "stdout"
        },
        {
          "output_type": "stream",
          "text": [
            "100%|██████████| 3/3 [00:00<00:00, 22.33it/s]\n",
            "100%|██████████| 3/3 [00:00<00:00, 22.05it/s]\n",
            "  0%|          | 0/3 [00:00<?, ?it/s]"
          ],
          "name": "stderr"
        },
        {
          "output_type": "stream",
          "text": [
            "{'ner': 0.03439879469950531}\n",
            "{'ner': 3.243255468897257e-08}\n"
          ],
          "name": "stdout"
        },
        {
          "output_type": "stream",
          "text": [
            "100%|██████████| 3/3 [00:00<00:00, 22.68it/s]\n",
            "100%|██████████| 3/3 [00:00<00:00, 22.00it/s]\n",
            "  0%|          | 0/3 [00:00<?, ?it/s]"
          ],
          "name": "stderr"
        },
        {
          "output_type": "stream",
          "text": [
            "{'ner': 3.1680006435844497e-07}\n",
            "{'ner': 6.932359809034451e-08}\n"
          ],
          "name": "stdout"
        },
        {
          "output_type": "stream",
          "text": [
            "100%|██████████| 3/3 [00:00<00:00, 21.60it/s]\n",
            "100%|██████████| 3/3 [00:00<00:00, 21.61it/s]\n",
            "  0%|          | 0/3 [00:00<?, ?it/s]"
          ],
          "name": "stderr"
        },
        {
          "output_type": "stream",
          "text": [
            "{'ner': 2.476082584593657e-06}\n",
            "{'ner': 2.0799909214272732e-08}\n"
          ],
          "name": "stdout"
        },
        {
          "output_type": "stream",
          "text": [
            "100%|██████████| 3/3 [00:00<00:00, 22.86it/s]\n",
            "100%|██████████| 3/3 [00:00<00:00, 22.59it/s]\n",
            "  0%|          | 0/3 [00:00<?, ?it/s]"
          ],
          "name": "stderr"
        },
        {
          "output_type": "stream",
          "text": [
            "{'ner': 2.9409051272467127e-10}\n",
            "{'ner': 5.860288435903855e-08}\n"
          ],
          "name": "stdout"
        },
        {
          "output_type": "stream",
          "text": [
            "100%|██████████| 3/3 [00:00<00:00, 22.53it/s]\n",
            "100%|██████████| 3/3 [00:00<00:00, 23.62it/s]\n",
            "  0%|          | 0/3 [00:00<?, ?it/s]"
          ],
          "name": "stderr"
        },
        {
          "output_type": "stream",
          "text": [
            "{'ner': 2.6367453562763915e-07}\n",
            "{'ner': 6.2597348527506544e-09}\n"
          ],
          "name": "stdout"
        },
        {
          "output_type": "stream",
          "text": [
            "100%|██████████| 3/3 [00:00<00:00, 22.17it/s]\n",
            "100%|██████████| 3/3 [00:00<00:00, 23.00it/s]\n",
            "  0%|          | 0/3 [00:00<?, ?it/s]"
          ],
          "name": "stderr"
        },
        {
          "output_type": "stream",
          "text": [
            "{'ner': 6.532241230476633e-08}\n",
            "{'ner': 6.726225150461484e-05}\n"
          ],
          "name": "stdout"
        },
        {
          "output_type": "stream",
          "text": [
            "100%|██████████| 3/3 [00:00<00:00, 23.12it/s]\n",
            "100%|██████████| 3/3 [00:00<00:00, 22.09it/s]\n",
            "  0%|          | 0/3 [00:00<?, ?it/s]"
          ],
          "name": "stderr"
        },
        {
          "output_type": "stream",
          "text": [
            "{'ner': 6.926123712223411e-10}\n",
            "{'ner': 2.370862065719756e-05}\n"
          ],
          "name": "stdout"
        },
        {
          "output_type": "stream",
          "text": [
            "100%|██████████| 3/3 [00:00<00:00, 21.22it/s]\n",
            "100%|██████████| 3/3 [00:00<00:00, 21.81it/s]\n",
            "  0%|          | 0/3 [00:00<?, ?it/s]"
          ],
          "name": "stderr"
        },
        {
          "output_type": "stream",
          "text": [
            "{'ner': 6.159326723464384e-11}\n",
            "{'ner': 6.170342864313698e-07}\n"
          ],
          "name": "stdout"
        },
        {
          "output_type": "stream",
          "text": [
            "100%|██████████| 3/3 [00:00<00:00, 22.33it/s]\n",
            "100%|██████████| 3/3 [00:00<00:00, 23.13it/s]"
          ],
          "name": "stderr"
        },
        {
          "output_type": "stream",
          "text": [
            "{'ner': 1.0470696856462618e-07}\n",
            "{'ner': 3.2965442548074707e-09}\n"
          ],
          "name": "stdout"
        },
        {
          "output_type": "stream",
          "text": [
            "\n"
          ],
          "name": "stderr"
        }
      ]
    },
    {
      "cell_type": "code",
      "metadata": {
        "colab": {
          "base_uri": "https://localhost:8080/"
        },
        "id": "ow1c8yWOREwc",
        "outputId": "3facd5ca-9b99-4369-ee4b-1c585c56f5f4"
      },
      "source": [
        "for text, _ in train:\n",
        "    doc = nlp(text)\n",
        "    print('Entities', [(ent.text, ent.label_) for ent in doc.ents])"
      ],
      "execution_count": 40,
      "outputs": [
        {
          "output_type": "stream",
          "text": [
            "Entities [('Zomato', 'food')]\n",
            "Entities []\n",
            "Entities [('AMAZON', 'online_shopping')]\n"
          ],
          "name": "stdout"
        }
      ]
    },
    {
      "cell_type": "code",
      "metadata": {
        "colab": {
          "base_uri": "https://localhost:8080/"
        },
        "id": "V7dojb95RN88",
        "outputId": "3ea446f6-e66f-44dc-853f-9eec33ecccf2"
      },
      "source": [
        "if output_dir is not None:\n",
        "    output_dir = Path(output_dir)\n",
        "    if not output_dir.exists():\n",
        "        output_dir.mkdir()\n",
        "    nlp.to_disk(output_dir)\n",
        "    print(\"Saved model to\", output_dir)"
      ],
      "execution_count": 41,
      "outputs": [
        {
          "output_type": "stream",
          "text": [
            "Saved model to C:\\Users\\nithi\\Documents\\ner\n"
          ],
          "name": "stdout"
        }
      ]
    },
    {
      "cell_type": "code",
      "metadata": {
        "id": "U3W9_8NMRSUN"
      },
      "source": [
        "from spacy import displacy\n",
        "doc=nlp(\"\"\"Payment of Rs. 370.6 using OlaMoney Postpaid for your transaction fzip-ndco-5wbi on Zomato is successful. Not you? Write to us at support@olamoney.com\"\"\")"
      ],
      "execution_count": 49,
      "outputs": []
    },
    {
      "cell_type": "code",
      "metadata": {
        "colab": {
          "base_uri": "https://localhost:8080/"
        },
        "id": "omyl-An_Rnj7",
        "outputId": "abd5b386-8f35-463c-b440-28ce9f174f65"
      },
      "source": [
        "for ent in doc.ents:\n",
        "  print(ent.text,ent.start_char,ent.end_char,ent.label_)"
      ],
      "execution_count": 51,
      "outputs": [
        {
          "output_type": "stream",
          "text": [
            "Zomato 84 90 food\n"
          ],
          "name": "stdout"
        }
      ]
    },
    {
      "cell_type": "code",
      "metadata": {
        "id": "uv3w72vxR2Gj"
      },
      "source": [
        ""
      ],
      "execution_count": null,
      "outputs": []
    }
  ]
}